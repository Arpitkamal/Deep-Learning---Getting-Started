{
  "nbformat": 4,
  "nbformat_minor": 0,
  "metadata": {
    "colab": {
      "name": "First lecture.ipynb",
      "provenance": [],
      "collapsed_sections": [],
      "authorship_tag": "ABX9TyNXyPPN6o2fd75HuURjnI0P",
      "include_colab_link": true
    },
    "kernelspec": {
      "name": "python3",
      "display_name": "Python 3"
    }
  },
  "cells": [
    {
      "cell_type": "markdown",
      "metadata": {
        "id": "view-in-github",
        "colab_type": "text"
      },
      "source": [
        "<a href=\"https://colab.research.google.com/github/Arpitkamal/Deep-Learning---Getting-Started/blob/master/First_lecture.ipynb\" target=\"_parent\"><img src=\"https://colab.research.google.com/assets/colab-badge.svg\" alt=\"Open In Colab\"/></a>"
      ]
    },
    {
      "cell_type": "markdown",
      "metadata": {
        "id": "0ZX5zJGerJNJ",
        "colab_type": "text"
      },
      "source": [
        "#Section 1\n",
        "Linux commands"
      ]
    },
    {
      "cell_type": "code",
      "metadata": {
        "id": "x8AeK0b_nNHO",
        "colab_type": "code",
        "outputId": "5cd679cb-a119-426e-9782-198205b4b22a",
        "colab": {
          "base_uri": "https://localhost:8080/",
          "height": 34
        }
      },
      "source": [
        "!ls"
      ],
      "execution_count": 0,
      "outputs": [
        {
          "output_type": "stream",
          "text": [
            "sample_data\n"
          ],
          "name": "stdout"
        }
      ]
    },
    {
      "cell_type": "markdown",
      "metadata": {
        "id": "_8aiZ9dprY2G",
        "colab_type": "text"
      },
      "source": [
        "**To check processor info**"
      ]
    },
    {
      "cell_type": "code",
      "metadata": {
        "id": "YG46RCyvnUf9",
        "colab_type": "code",
        "colab": {}
      },
      "source": [
        "!cat /proc/cpuinfo"
      ],
      "execution_count": 0,
      "outputs": []
    },
    {
      "cell_type": "markdown",
      "metadata": {
        "id": "WwByJTtHrgkC",
        "colab_type": "text"
      },
      "source": [
        "**To check RAM info**"
      ]
    },
    {
      "cell_type": "code",
      "metadata": {
        "id": "Wynwl-PUnrih",
        "colab_type": "code",
        "colab": {}
      },
      "source": [
        "!cat /proc/meminfo"
      ],
      "execution_count": 0,
      "outputs": []
    }
  ]
}