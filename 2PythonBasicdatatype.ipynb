{
  "nbformat": 4,
  "nbformat_minor": 0,
  "metadata": {
    "colab": {
      "name": " 2PythonBasicdatatype.ipynb",
      "provenance": [],
      "toc_visible": true,
      "authorship_tag": "ABX9TyMGr1f4ZvxYlM0dL7qwqbcV",
      "include_colab_link": true
    },
    "kernelspec": {
      "name": "python3",
      "display_name": "Python 3"
    }
  },
  "cells": [
    {
      "cell_type": "markdown",
      "metadata": {
        "id": "view-in-github",
        "colab_type": "text"
      },
      "source": [
        "<a href=\"https://colab.research.google.com/github/Arpitkamal/Deep-Learning---Getting-Started/blob/master/2PythonBasicdatatype.ipynb\" target=\"_parent\"><img src=\"https://colab.research.google.com/assets/colab-badge.svg\" alt=\"Open In Colab\"/></a>"
      ]
    },
    {
      "cell_type": "markdown",
      "metadata": {
        "id": "j2GQxIzE505d",
        "colab_type": "text"
      },
      "source": [
        "# Simple data type and operations"
      ]
    },
    {
      "cell_type": "code",
      "metadata": {
        "id": "89IzkT3F3p7P",
        "colab_type": "code",
        "colab": {}
      },
      "source": [
        "name ='iphone 5s'"
      ],
      "execution_count": 0,
      "outputs": []
    },
    {
      "cell_type": "code",
      "metadata": {
        "id": "uZAcbxyk4Ok4",
        "colab_type": "code",
        "outputId": "6c602f0e-c0d9-4280-a276-1b43f6164c6e",
        "colab": {
          "base_uri": "https://localhost:8080/",
          "height": 34
        }
      },
      "source": [
        "type(name)"
      ],
      "execution_count": 132,
      "outputs": [
        {
          "output_type": "execute_result",
          "data": {
            "text/plain": [
              "str"
            ]
          },
          "metadata": {
            "tags": []
          },
          "execution_count": 132
        }
      ]
    },
    {
      "cell_type": "code",
      "metadata": {
        "id": "GGRKmI1F4UW2",
        "colab_type": "code",
        "outputId": "26c73f73-ac2c-4530-f09d-c3c2c0a5f5b6",
        "colab": {
          "base_uri": "https://localhost:8080/",
          "height": 34
        }
      },
      "source": [
        "print(name)"
      ],
      "execution_count": 133,
      "outputs": [
        {
          "output_type": "stream",
          "text": [
            "iphone 5s\n"
          ],
          "name": "stdout"
        }
      ]
    },
    {
      "cell_type": "code",
      "metadata": {
        "id": "fEkJO-TR4Yd8",
        "colab_type": "code",
        "outputId": "ed45a7cc-3d7c-4916-ab10-e604293cc336",
        "colab": {
          "base_uri": "https://localhost:8080/",
          "height": 34
        }
      },
      "source": [
        "screen_size = 4.3\n",
        "type(screen_size)"
      ],
      "execution_count": 134,
      "outputs": [
        {
          "output_type": "execute_result",
          "data": {
            "text/plain": [
              "float"
            ]
          },
          "metadata": {
            "tags": []
          },
          "execution_count": 134
        }
      ]
    },
    {
      "cell_type": "code",
      "metadata": {
        "id": "2knA6yNp4hpF",
        "colab_type": "code",
        "colab": {}
      },
      "source": [
        "no_of_speaker=1"
      ],
      "execution_count": 0,
      "outputs": []
    },
    {
      "cell_type": "code",
      "metadata": {
        "id": "ujNmbQdp4uUn",
        "colab_type": "code",
        "outputId": "d7bf67d9-42bb-41b5-b1d9-2369c1abcb99",
        "colab": {
          "base_uri": "https://localhost:8080/",
          "height": 34
        }
      },
      "source": [
        "type(no_of_speaker)"
      ],
      "execution_count": 136,
      "outputs": [
        {
          "output_type": "execute_result",
          "data": {
            "text/plain": [
              "int"
            ]
          },
          "metadata": {
            "tags": []
          },
          "execution_count": 136
        }
      ]
    },
    {
      "cell_type": "code",
      "metadata": {
        "id": "LRls52l34_O_",
        "colab_type": "code",
        "outputId": "1404f5d6-ec01-4990-8b5f-10fb30a1dff8",
        "colab": {
          "base_uri": "https://localhost:8080/",
          "height": 34
        }
      },
      "source": [
        "print('i bought an '+name)"
      ],
      "execution_count": 137,
      "outputs": [
        {
          "output_type": "stream",
          "text": [
            "i bought an iphone 5s\n"
          ],
          "name": "stdout"
        }
      ]
    },
    {
      "cell_type": "code",
      "metadata": {
        "id": "TCZ4mNAa5epJ",
        "colab_type": "code",
        "outputId": "48c08926-fad2-4bfe-fecf-98bfbfc9a8d0",
        "colab": {
          "base_uri": "https://localhost:8080/",
          "height": 34
        }
      },
      "source": [
        "a=5\n",
        "b=2\n",
        "print(a+b,a*b,a/b,a ** b, a // b)"
      ],
      "execution_count": 138,
      "outputs": [
        {
          "output_type": "stream",
          "text": [
            "7 10 2.5 25 2\n"
          ],
          "name": "stdout"
        }
      ]
    },
    {
      "cell_type": "code",
      "metadata": {
        "id": "kqqUJP3n5qq0",
        "colab_type": "code",
        "outputId": "1db28816-163f-411f-e87c-d300701272aa",
        "colab": {
          "base_uri": "https://localhost:8080/",
          "height": 34
        }
      },
      "source": [
        "is_android = False\n",
        "type(is_android)"
      ],
      "execution_count": 139,
      "outputs": [
        {
          "output_type": "execute_result",
          "data": {
            "text/plain": [
              "bool"
            ]
          },
          "metadata": {
            "tags": []
          },
          "execution_count": 139
        }
      ]
    },
    {
      "cell_type": "code",
      "metadata": {
        "id": "gRmzgHvj6EIW",
        "colab_type": "code",
        "outputId": "4c36df39-db82-449c-acb8-b9ab73290a8c",
        "colab": {
          "base_uri": "https://localhost:8080/",
          "height": 34
        }
      },
      "source": [
        "print(is_android == False and no_of_speaker >1)"
      ],
      "execution_count": 140,
      "outputs": [
        {
          "output_type": "stream",
          "text": [
            "False\n"
          ],
          "name": "stdout"
        }
      ]
    },
    {
      "cell_type": "markdown",
      "metadata": {
        "id": "BU-pfluo6AdL",
        "colab_type": "text"
      },
      "source": [
        "# Code block- if,else,While"
      ]
    },
    {
      "cell_type": "code",
      "metadata": {
        "id": "3SjwXqLH6NOq",
        "colab_type": "code",
        "outputId": "6eadb2f1-b5e9-424a-e3c9-37aab0a68656",
        "colab": {
          "base_uri": "https://localhost:8080/",
          "height": 0
        }
      },
      "source": [
        "if is_android==False:\n",
        "  print('my phone is iphone')"
      ],
      "execution_count": 141,
      "outputs": [
        {
          "output_type": "stream",
          "text": [
            "my phone is iphone\n"
          ],
          "name": "stdout"
        }
      ]
    },
    {
      "cell_type": "code",
      "metadata": {
        "id": "eqQDjo986Sh-",
        "colab_type": "code",
        "colab": {
          "base_uri": "https://localhost:8080/",
          "height": 0
        },
        "outputId": "5d793f11-3213-4db7-95fb-8ac0503404eb"
      },
      "source": [
        "if 1>2:\n",
        "  print(\"1 is greater\")\n",
        "else:\n",
        "  print(\"2 is greater\")  "
      ],
      "execution_count": 142,
      "outputs": [
        {
          "output_type": "stream",
          "text": [
            "2 is greater\n"
          ],
          "name": "stdout"
        }
      ]
    },
    {
      "cell_type": "code",
      "metadata": {
        "id": "Xdp52AFa6XyT",
        "colab_type": "code",
        "outputId": "c0eb88e2-31bf-4b0b-da44-04622774623c",
        "colab": {
          "base_uri": "https://localhost:8080/",
          "height": 0
        }
      },
      "source": [
        "for i in range(5):\n",
        "  print(i , i ** 2)"
      ],
      "execution_count": 143,
      "outputs": [
        {
          "output_type": "stream",
          "text": [
            "0 0\n",
            "1 1\n",
            "2 4\n",
            "3 9\n",
            "4 16\n"
          ],
          "name": "stdout"
        }
      ]
    },
    {
      "cell_type": "code",
      "metadata": {
        "id": "18m_Gc5A64aV",
        "colab_type": "code",
        "colab": {}
      },
      "source": [
        "range?"
      ],
      "execution_count": 0,
      "outputs": []
    },
    {
      "cell_type": "code",
      "metadata": {
        "id": "2Gi4diht663F",
        "colab_type": "code",
        "outputId": "7b743adc-3aee-4619-e299-a6f9e790808c",
        "colab": {
          "base_uri": "https://localhost:8080/",
          "height": 0
        }
      },
      "source": [
        "i = 0\n",
        "while i < 5:\n",
        "  print(i , i ** 2)\n",
        "  i += 1 # i = i+1"
      ],
      "execution_count": 145,
      "outputs": [
        {
          "output_type": "stream",
          "text": [
            "0 0\n",
            "1 1\n",
            "2 4\n",
            "3 9\n",
            "4 16\n"
          ],
          "name": "stdout"
        }
      ]
    },
    {
      "cell_type": "markdown",
      "metadata": {
        "id": "UmIiI5U26uQ_",
        "colab_type": "text"
      },
      "source": [
        "# Function"
      ]
    },
    {
      "cell_type": "code",
      "metadata": {
        "id": "eX5PJ-xd7Z6Y",
        "colab_type": "code",
        "colab": {}
      },
      "source": [
        "def print_square(stop_val):\n",
        "  for i in range(stop_val):\n",
        "    print(i ,i ** 2)"
      ],
      "execution_count": 0,
      "outputs": []
    },
    {
      "cell_type": "code",
      "metadata": {
        "id": "aikIRf_G75RZ",
        "colab_type": "code",
        "outputId": "4e07d3ce-288d-4bbc-b0d6-69281fda1ad2",
        "colab": {
          "base_uri": "https://localhost:8080/",
          "height": 0
        }
      },
      "source": [
        "print_square(9)"
      ],
      "execution_count": 147,
      "outputs": [
        {
          "output_type": "stream",
          "text": [
            "0 0\n",
            "1 1\n",
            "2 4\n",
            "3 9\n",
            "4 16\n",
            "5 25\n",
            "6 36\n",
            "7 49\n",
            "8 64\n"
          ],
          "name": "stdout"
        }
      ]
    },
    {
      "cell_type": "code",
      "metadata": {
        "id": "TqpvklYI8HBJ",
        "colab_type": "code",
        "colab": {}
      },
      "source": [
        "def sum_of_square(stop_val):\n",
        "  sum = 0\n",
        "  for i in range(stop_val):\n",
        "    sum += i **2\n",
        "  return(sum)"
      ],
      "execution_count": 0,
      "outputs": []
    },
    {
      "cell_type": "code",
      "metadata": {
        "id": "_ioPEVkm9Kbg",
        "colab_type": "code",
        "outputId": "7e62b14e-2c4d-4434-dfc7-8bf1087f2bba",
        "colab": {
          "base_uri": "https://localhost:8080/",
          "height": 0
        }
      },
      "source": [
        "sum_of_square(5)"
      ],
      "execution_count": 149,
      "outputs": [
        {
          "output_type": "execute_result",
          "data": {
            "text/plain": [
              "30"
            ]
          },
          "metadata": {
            "tags": []
          },
          "execution_count": 149
        }
      ]
    },
    {
      "cell_type": "code",
      "metadata": {
        "id": "NO03jlgH9SK5",
        "colab_type": "code",
        "colab": {}
      },
      "source": [
        "def print_square_value_with_startval(stop_val, start_val=0):\n",
        "  '''prints of squares of numbers starting from start_val(inclusive) and ending with stop_val (exclusive) '''\n",
        "  for i in range(start_val ,stop_val):\n",
        "    print(i , i ** 2)"
      ],
      "execution_count": 0,
      "outputs": []
    },
    {
      "cell_type": "code",
      "metadata": {
        "id": "FIrSDFbB-Pn8",
        "colab_type": "code",
        "outputId": "1e6bcacc-bdec-4ded-996f-9cfa1c88a305",
        "colab": {
          "base_uri": "https://localhost:8080/",
          "height": 0
        }
      },
      "source": [
        "print_square_value_with_startval(5 ,2)"
      ],
      "execution_count": 151,
      "outputs": [
        {
          "output_type": "stream",
          "text": [
            "2 4\n",
            "3 9\n",
            "4 16\n"
          ],
          "name": "stdout"
        }
      ]
    },
    {
      "cell_type": "code",
      "metadata": {
        "id": "qINnqcM3-UEf",
        "colab_type": "code",
        "outputId": "a74d31e9-ed88-4471-9c2b-b7496c9d874c",
        "colab": {
          "base_uri": "https://localhost:8080/",
          "height": 0
        }
      },
      "source": [
        "help(print_square_value_with_startval)"
      ],
      "execution_count": 152,
      "outputs": [
        {
          "output_type": "stream",
          "text": [
            "Help on function print_square_value_with_startval in module __main__:\n",
            "\n",
            "print_square_value_with_startval(stop_val, start_val=0)\n",
            "    prints of squares of numbers starting from start_val(inclusive) and ending with stop_val (exclusive)\n",
            "\n"
          ],
          "name": "stdout"
        }
      ]
    },
    {
      "cell_type": "code",
      "metadata": {
        "id": "3EjLQJ2h_fmL",
        "colab_type": "code",
        "colab": {}
      },
      "source": [
        "print_square_value_with_startval?"
      ],
      "execution_count": 0,
      "outputs": []
    },
    {
      "cell_type": "code",
      "metadata": {
        "id": "0sqaBRkd_iUo",
        "colab_type": "code",
        "colab": {}
      },
      "source": [
        ""
      ],
      "execution_count": 0,
      "outputs": []
    },
    {
      "cell_type": "markdown",
      "metadata": {
        "id": "mqaotCd-6593",
        "colab_type": "text"
      },
      "source": [
        "# List [ ]\n",
        "**1 Modification is allowed**\n",
        "\n",
        "**2 List operation take more time as compared to tupe because they are mutable**"
      ]
    },
    {
      "cell_type": "code",
      "metadata": {
        "id": "H0OE86Ug7EPc",
        "colab_type": "code",
        "colab": {}
      },
      "source": [
        "my_phone = [name, is_android, screen_size]"
      ],
      "execution_count": 0,
      "outputs": []
    },
    {
      "cell_type": "code",
      "metadata": {
        "id": "9XnMonW77OWI",
        "colab_type": "code",
        "colab": {
          "base_uri": "https://localhost:8080/",
          "height": 34
        },
        "outputId": "fcb7d7bd-7b74-41e5-9ea9-e44d400d9225"
      },
      "source": [
        "type(my_phone)"
      ],
      "execution_count": 155,
      "outputs": [
        {
          "output_type": "execute_result",
          "data": {
            "text/plain": [
              "list"
            ]
          },
          "metadata": {
            "tags": []
          },
          "execution_count": 155
        }
      ]
    },
    {
      "cell_type": "code",
      "metadata": {
        "id": "dB-fOJoz8DC2",
        "colab_type": "code",
        "colab": {
          "base_uri": "https://localhost:8080/",
          "height": 34
        },
        "outputId": "f0d1ad31-c96f-48fd-ac51-3d4108f2273a"
      },
      "source": [
        "print(my_phone)"
      ],
      "execution_count": 156,
      "outputs": [
        {
          "output_type": "stream",
          "text": [
            "['iphone 5s', False, 4.3]\n"
          ],
          "name": "stdout"
        }
      ]
    },
    {
      "cell_type": "code",
      "metadata": {
        "id": "6n6ceS9j8FMZ",
        "colab_type": "code",
        "colab": {
          "base_uri": "https://localhost:8080/",
          "height": 34
        },
        "outputId": "af702f21-08d6-4dcf-8ad7-e4a63c1bfe46"
      },
      "source": [
        "my_phone[0]"
      ],
      "execution_count": 157,
      "outputs": [
        {
          "output_type": "execute_result",
          "data": {
            "text/plain": [
              "'iphone 5s'"
            ]
          },
          "metadata": {
            "tags": []
          },
          "execution_count": 157
        }
      ]
    },
    {
      "cell_type": "code",
      "metadata": {
        "id": "7CjRGniO8J1n",
        "colab_type": "code",
        "colab": {
          "base_uri": "https://localhost:8080/",
          "height": 34
        },
        "outputId": "457fdf8f-2210-4252-c0aa-665f49ec88f6"
      },
      "source": [
        "type(my_phone)"
      ],
      "execution_count": 158,
      "outputs": [
        {
          "output_type": "execute_result",
          "data": {
            "text/plain": [
              "list"
            ]
          },
          "metadata": {
            "tags": []
          },
          "execution_count": 158
        }
      ]
    },
    {
      "cell_type": "code",
      "metadata": {
        "id": "3Vf5keDf8Nw7",
        "colab_type": "code",
        "colab": {
          "base_uri": "https://localhost:8080/",
          "height": 34
        },
        "outputId": "b5126404-9951-4f32-abf4-9e26e08b4660"
      },
      "source": [
        "my_phone[0:2]"
      ],
      "execution_count": 159,
      "outputs": [
        {
          "output_type": "execute_result",
          "data": {
            "text/plain": [
              "['iphone 5s', False]"
            ]
          },
          "metadata": {
            "tags": []
          },
          "execution_count": 159
        }
      ]
    },
    {
      "cell_type": "code",
      "metadata": {
        "id": "gR1umUwD8Sug",
        "colab_type": "code",
        "colab": {
          "base_uri": "https://localhost:8080/",
          "height": 34
        },
        "outputId": "d32b10b9-d28a-444b-a526-f4bc99898623"
      },
      "source": [
        "my_dads_phone = my_phone #sharing reference with each other \n",
        "print(my_dads_phone)"
      ],
      "execution_count": 160,
      "outputs": [
        {
          "output_type": "stream",
          "text": [
            "['iphone 5s', False, 4.3]\n"
          ],
          "name": "stdout"
        }
      ]
    },
    {
      "cell_type": "code",
      "metadata": {
        "id": "3glHA56i8dsZ",
        "colab_type": "code",
        "colab": {}
      },
      "source": [
        "my_phone[2]=4"
      ],
      "execution_count": 0,
      "outputs": []
    },
    {
      "cell_type": "code",
      "metadata": {
        "id": "5A_GpFwI0PVD",
        "colab_type": "code",
        "colab": {
          "base_uri": "https://localhost:8080/",
          "height": 34
        },
        "outputId": "c72da140-0a95-4347-9e61-c65124a25e4b"
      },
      "source": [
        "my_phone"
      ],
      "execution_count": 162,
      "outputs": [
        {
          "output_type": "execute_result",
          "data": {
            "text/plain": [
              "['iphone 5s', False, 4]"
            ]
          },
          "metadata": {
            "tags": []
          },
          "execution_count": 162
        }
      ]
    },
    {
      "cell_type": "code",
      "metadata": {
        "id": "J1zgQhIC0RG7",
        "colab_type": "code",
        "colab": {
          "base_uri": "https://localhost:8080/",
          "height": 34
        },
        "outputId": "af092e81-babc-43de-c8ea-b4ce1dbd3228"
      },
      "source": [
        "my_dads_phone"
      ],
      "execution_count": 163,
      "outputs": [
        {
          "output_type": "execute_result",
          "data": {
            "text/plain": [
              "['iphone 5s', False, 4]"
            ]
          },
          "metadata": {
            "tags": []
          },
          "execution_count": 163
        }
      ]
    },
    {
      "cell_type": "code",
      "metadata": {
        "id": "0kXipHQS0Sjg",
        "colab_type": "code",
        "colab": {}
      },
      "source": [
        "my_dads_phone = list(my_phone) # deep copy to avoid overwritting\n",
        "#my_dads_phone = my_phone[:]  2 way"
      ],
      "execution_count": 0,
      "outputs": []
    },
    {
      "cell_type": "code",
      "metadata": {
        "id": "DX3BNOLJ0yC9",
        "colab_type": "code",
        "colab": {}
      },
      "source": [
        "my_phone[2] = 4.3"
      ],
      "execution_count": 0,
      "outputs": []
    },
    {
      "cell_type": "code",
      "metadata": {
        "id": "TqLU5Spi1v36",
        "colab_type": "code",
        "colab": {
          "base_uri": "https://localhost:8080/",
          "height": 51
        },
        "outputId": "3d7371c7-a44e-4f27-ec97-427b9d70c006"
      },
      "source": [
        "print(my_phone)\n",
        "print(my_dads_phone)"
      ],
      "execution_count": 166,
      "outputs": [
        {
          "output_type": "stream",
          "text": [
            "['iphone 5s', False, 4.3]\n",
            "['iphone 5s', False, 4]\n"
          ],
          "name": "stdout"
        }
      ]
    },
    {
      "cell_type": "code",
      "metadata": {
        "id": "3e4vp5Rb1zlR",
        "colab_type": "code",
        "colab": {
          "base_uri": "https://localhost:8080/",
          "height": 34
        },
        "outputId": "a0efa41a-062f-485c-ca7c-1da99737a11b"
      },
      "source": [
        "len(my_phone)"
      ],
      "execution_count": 167,
      "outputs": [
        {
          "output_type": "execute_result",
          "data": {
            "text/plain": [
              "3"
            ]
          },
          "metadata": {
            "tags": []
          },
          "execution_count": 167
        }
      ]
    },
    {
      "cell_type": "code",
      "metadata": {
        "id": "EsyGXbPb2EnL",
        "colab_type": "code",
        "colab": {}
      },
      "source": [
        "len?"
      ],
      "execution_count": 0,
      "outputs": []
    },
    {
      "cell_type": "code",
      "metadata": {
        "id": "-htF3VXH2FYs",
        "colab_type": "code",
        "colab": {}
      },
      "source": [
        "my_phone.append('3G')"
      ],
      "execution_count": 0,
      "outputs": []
    },
    {
      "cell_type": "code",
      "metadata": {
        "id": "FzohIfhO2RK_",
        "colab_type": "code",
        "colab": {
          "base_uri": "https://localhost:8080/",
          "height": 34
        },
        "outputId": "29026125-76e1-4c6b-92f7-b723d6fa20fc"
      },
      "source": [
        "my_phone"
      ],
      "execution_count": 170,
      "outputs": [
        {
          "output_type": "execute_result",
          "data": {
            "text/plain": [
              "['iphone 5s', False, 4.3, '3G']"
            ]
          },
          "metadata": {
            "tags": []
          },
          "execution_count": 170
        }
      ]
    },
    {
      "cell_type": "code",
      "metadata": {
        "id": "0HLBBkFW2S1N",
        "colab_type": "code",
        "colab": {
          "base_uri": "https://localhost:8080/",
          "height": 34
        },
        "outputId": "7600aa74-236c-4003-b5cc-1ff41f327661"
      },
      "source": [
        "len(my_phone)"
      ],
      "execution_count": 171,
      "outputs": [
        {
          "output_type": "execute_result",
          "data": {
            "text/plain": [
              "4"
            ]
          },
          "metadata": {
            "tags": []
          },
          "execution_count": 171
        }
      ]
    },
    {
      "cell_type": "code",
      "metadata": {
        "id": "iwBeZKQC2VWE",
        "colab_type": "code",
        "colab": {}
      },
      "source": [
        "iphone_some_prefs = [\"single sim\", 10000]"
      ],
      "execution_count": 0,
      "outputs": []
    },
    {
      "cell_type": "code",
      "metadata": {
        "id": "k6aDSwQF2n6a",
        "colab_type": "code",
        "colab": {}
      },
      "source": [
        "my_phone = my_phone + iphone_some_prefs"
      ],
      "execution_count": 0,
      "outputs": []
    },
    {
      "cell_type": "code",
      "metadata": {
        "id": "2Z4HlZaY2zLg",
        "colab_type": "code",
        "colab": {
          "base_uri": "https://localhost:8080/",
          "height": 34
        },
        "outputId": "dbca90b5-04a2-4d9f-f7f1-0c8640ded810"
      },
      "source": [
        "my_phone"
      ],
      "execution_count": 174,
      "outputs": [
        {
          "output_type": "execute_result",
          "data": {
            "text/plain": [
              "['iphone 5s', False, 4.3, '3G', 'single sim', 10000]"
            ]
          },
          "metadata": {
            "tags": []
          },
          "execution_count": 174
        }
      ]
    },
    {
      "cell_type": "code",
      "metadata": {
        "id": "nsyiVr5y20Zi",
        "colab_type": "code",
        "colab": {
          "base_uri": "https://localhost:8080/",
          "height": 119
        },
        "outputId": "7a66b025-efbd-4869-f3ba-6420fbf8a338"
      },
      "source": [
        "for data in my_phone:\n",
        "  print(data)"
      ],
      "execution_count": 175,
      "outputs": [
        {
          "output_type": "stream",
          "text": [
            "iphone 5s\n",
            "False\n",
            "4.3\n",
            "3G\n",
            "single sim\n",
            "10000\n"
          ],
          "name": "stdout"
        }
      ]
    },
    {
      "cell_type": "code",
      "metadata": {
        "id": "za73MAz_25qh",
        "colab_type": "code",
        "colab": {
          "base_uri": "https://localhost:8080/",
          "height": 34
        },
        "outputId": "278e7fd4-2a61-4608-b601-c09a29fada39"
      },
      "source": [
        "print(list(range(5)))"
      ],
      "execution_count": 176,
      "outputs": [
        {
          "output_type": "stream",
          "text": [
            "[0, 1, 2, 3, 4]\n"
          ],
          "name": "stdout"
        }
      ]
    },
    {
      "cell_type": "code",
      "metadata": {
        "id": "Rbi_ZPHB3EoI",
        "colab_type": "code",
        "colab": {
          "base_uri": "https://localhost:8080/",
          "height": 34
        },
        "outputId": "0ca3f338-5b6a-4bce-9a3c-115d1cf20a8b"
      },
      "source": [
        "a = list(range(5))\n",
        "print(a)"
      ],
      "execution_count": 177,
      "outputs": [
        {
          "output_type": "stream",
          "text": [
            "[0, 1, 2, 3, 4]\n"
          ],
          "name": "stdout"
        }
      ]
    },
    {
      "cell_type": "code",
      "metadata": {
        "id": "a9T4xeFD3RMO",
        "colab_type": "code",
        "colab": {}
      },
      "source": [
        "b = list(map(lambda x : x **2 , a))"
      ],
      "execution_count": 0,
      "outputs": []
    },
    {
      "cell_type": "code",
      "metadata": {
        "id": "w9bOwhNt3a79",
        "colab_type": "code",
        "colab": {
          "base_uri": "https://localhost:8080/",
          "height": 34
        },
        "outputId": "f3ef87cc-9b22-4290-8e12-add30d8c9d0f"
      },
      "source": [
        "print(b)"
      ],
      "execution_count": 179,
      "outputs": [
        {
          "output_type": "stream",
          "text": [
            "[0, 1, 4, 9, 16]\n"
          ],
          "name": "stdout"
        }
      ]
    },
    {
      "cell_type": "code",
      "metadata": {
        "id": "3RE5rAQr3cqc",
        "colab_type": "code",
        "colab": {}
      },
      "source": [
        "c = list(filter(lambda x : x%2==0 , b))"
      ],
      "execution_count": 0,
      "outputs": []
    },
    {
      "cell_type": "code",
      "metadata": {
        "id": "wmwBfBm33faz",
        "colab_type": "code",
        "colab": {
          "base_uri": "https://localhost:8080/",
          "height": 34
        },
        "outputId": "e05d97c2-d8b2-4399-ef0e-c634ff5496fc"
      },
      "source": [
        "print(c)"
      ],
      "execution_count": 181,
      "outputs": [
        {
          "output_type": "stream",
          "text": [
            "[0, 4, 16]\n"
          ],
          "name": "stdout"
        }
      ]
    },
    {
      "cell_type": "markdown",
      "metadata": {
        "id": "StFIy28b4Sin",
        "colab_type": "text"
      },
      "source": [
        "# Tuple ( )\n",
        "**1 Immutable data set(items cannot be reassigned)**\n",
        "\n",
        "**2 Tuple operation take less time as compared to list because they are non-mutable**"
      ]
    },
    {
      "cell_type": "code",
      "metadata": {
        "id": "f3m6ok114Ym2",
        "colab_type": "code",
        "colab": {
          "base_uri": "https://localhost:8080/",
          "height": 51
        },
        "outputId": "494e9fda-1f4c-4d24-c4c9-80274d799a76"
      },
      "source": [
        "print(my_phone)\n",
        "type(my_phone)"
      ],
      "execution_count": 182,
      "outputs": [
        {
          "output_type": "stream",
          "text": [
            "['iphone 5s', False, 4.3, '3G', 'single sim', 10000]\n"
          ],
          "name": "stdout"
        },
        {
          "output_type": "execute_result",
          "data": {
            "text/plain": [
              "list"
            ]
          },
          "metadata": {
            "tags": []
          },
          "execution_count": 182
        }
      ]
    },
    {
      "cell_type": "code",
      "metadata": {
        "id": "bxXn9hUr4kjJ",
        "colab_type": "code",
        "colab": {}
      },
      "source": [
        "my_phone_tuple = (\"iphone5s\" , False , 4.3)"
      ],
      "execution_count": 0,
      "outputs": []
    },
    {
      "cell_type": "code",
      "metadata": {
        "id": "GsZzUw4k4wS6",
        "colab_type": "code",
        "colab": {
          "base_uri": "https://localhost:8080/",
          "height": 34
        },
        "outputId": "b8752156-1283-45fd-93aa-f58d1267ee68"
      },
      "source": [
        "type(my_phone_tuple)"
      ],
      "execution_count": 184,
      "outputs": [
        {
          "output_type": "execute_result",
          "data": {
            "text/plain": [
              "tuple"
            ]
          },
          "metadata": {
            "tags": []
          },
          "execution_count": 184
        }
      ]
    },
    {
      "cell_type": "code",
      "metadata": {
        "id": "iH4S0Erx4znJ",
        "colab_type": "code",
        "colab": {
          "base_uri": "https://localhost:8080/",
          "height": 34
        },
        "outputId": "aed918d3-294d-44fd-bb73-3cbf7d5bc2a5"
      },
      "source": [
        "my_phone_tuple"
      ],
      "execution_count": 185,
      "outputs": [
        {
          "output_type": "execute_result",
          "data": {
            "text/plain": [
              "('iphone5s', False, 4.3)"
            ]
          },
          "metadata": {
            "tags": []
          },
          "execution_count": 185
        }
      ]
    },
    {
      "cell_type": "code",
      "metadata": {
        "id": "Yi37xt5d43zn",
        "colab_type": "code",
        "colab": {
          "base_uri": "https://localhost:8080/",
          "height": 163
        },
        "outputId": "18336527-ae78-432c-e3cc-74acca54d83b"
      },
      "source": [
        "my_phone_tuple[2] = 4 # items cannot be reassigned"
      ],
      "execution_count": 186,
      "outputs": [
        {
          "output_type": "error",
          "ename": "TypeError",
          "evalue": "ignored",
          "traceback": [
            "\u001b[0;31m---------------------------------------------------------------------------\u001b[0m",
            "\u001b[0;31mTypeError\u001b[0m                                 Traceback (most recent call last)",
            "\u001b[0;32m<ipython-input-186-234a1af3a289>\u001b[0m in \u001b[0;36m<module>\u001b[0;34m()\u001b[0m\n\u001b[0;32m----> 1\u001b[0;31m \u001b[0mmy_phone_tuple\u001b[0m\u001b[0;34m[\u001b[0m\u001b[0;36m2\u001b[0m\u001b[0;34m]\u001b[0m \u001b[0;34m=\u001b[0m \u001b[0;36m4\u001b[0m \u001b[0;31m# items cannot be reassigned\u001b[0m\u001b[0;34m\u001b[0m\u001b[0;34m\u001b[0m\u001b[0m\n\u001b[0m",
            "\u001b[0;31mTypeError\u001b[0m: 'tuple' object does not support item assignment"
          ]
        }
      ]
    },
    {
      "cell_type": "code",
      "metadata": {
        "id": "B3sCOOn05Lk0",
        "colab_type": "code",
        "colab": {}
      },
      "source": [
        "import time"
      ],
      "execution_count": 0,
      "outputs": []
    },
    {
      "cell_type": "code",
      "metadata": {
        "id": "EDex3XpX6HDZ",
        "colab_type": "code",
        "colab": {
          "base_uri": "https://localhost:8080/",
          "height": 34
        },
        "outputId": "923487e3-19c6-46b7-fcbe-6870ca9c220d"
      },
      "source": [
        "tic = time.time()\n",
        "tic"
      ],
      "execution_count": 188,
      "outputs": [
        {
          "output_type": "execute_result",
          "data": {
            "text/plain": [
              "1585481692.472976"
            ]
          },
          "metadata": {
            "tags": []
          },
          "execution_count": 188
        }
      ]
    },
    {
      "cell_type": "code",
      "metadata": {
        "id": "ORZsrdWW6Ku0",
        "colab_type": "code",
        "colab": {}
      },
      "source": [
        "time.time?"
      ],
      "execution_count": 0,
      "outputs": []
    },
    {
      "cell_type": "code",
      "metadata": {
        "id": "rjdlrtlC6O5u",
        "colab_type": "code",
        "colab": {
          "base_uri": "https://localhost:8080/",
          "height": 34
        },
        "outputId": "cb67cfef-89c7-469d-9ccf-3ff55a1b6cf5"
      },
      "source": [
        "tic = time.time()\n",
        "# do sometask which take same time that is to be measured\n",
        "toc = time.time()\n",
        "print(\"Elapsed time in seconds\",toc- tic)"
      ],
      "execution_count": 190,
      "outputs": [
        {
          "output_type": "stream",
          "text": [
            "Elapsed time in seconds 2.7894973754882812e-05\n"
          ],
          "name": "stdout"
        }
      ]
    },
    {
      "cell_type": "markdown",
      "metadata": {
        "id": "C93WmDoF9qD1",
        "colab_type": "text"
      },
      "source": [
        "**Why do we need another data type?**"
      ]
    },
    {
      "cell_type": "code",
      "metadata": {
        "id": "_AgFloed6mrE",
        "colab_type": "code",
        "colab": {
          "base_uri": "https://localhost:8080/",
          "height": 34
        },
        "outputId": "aeb7bcfc-dfee-4c8e-9328-442d7fb6d687"
      },
      "source": [
        "my_list = list(range(1000000))\n",
        "tic = time.time()\n",
        "my_list_squared = list(map(lambda x : x ** 2, my_list))\n",
        "my_list_squared[234234]\n",
        "my_list_squared[344564]\n",
        "my_list_squared[436545]\n",
        "toc = time.time()\n",
        "print(\"Elapsed time in seconds\",toc- tic)"
      ],
      "execution_count": 195,
      "outputs": [
        {
          "output_type": "stream",
          "text": [
            "Elapsed time in seconds 0.32460975646972656\n"
          ],
          "name": "stdout"
        }
      ]
    },
    {
      "cell_type": "markdown",
      "metadata": {
        "id": "INrcTG218S05",
        "colab_type": "text"
      },
      "source": [
        "**Tuple operation take less time as compared to list because they are non-mutable(run both cell twice)**"
      ]
    },
    {
      "cell_type": "code",
      "metadata": {
        "id": "4SQkBwta7oQw",
        "colab_type": "code",
        "colab": {
          "base_uri": "https://localhost:8080/",
          "height": 34
        },
        "outputId": "8d47a629-a330-4599-d2e8-4c113feff7c5"
      },
      "source": [
        "my_tuple = tuple(range(1000000))\n",
        "tic = time.time()\n",
        "my_list_squared = tuple(map(lambda x : x ** 2, my_tuple))\n",
        "my_list_squared[234234]\n",
        "my_list_squared[344564]\n",
        "my_list_squared[436545]\n",
        "toc = time.time()\n",
        "print(\"Elapsed time in seconds\",toc- tic)"
      ],
      "execution_count": 196,
      "outputs": [
        {
          "output_type": "stream",
          "text": [
            "Elapsed time in seconds 0.30998945236206055\n"
          ],
          "name": "stdout"
        }
      ]
    },
    {
      "cell_type": "markdown",
      "metadata": {
        "id": "AZgJ0meU-Kw6",
        "colab_type": "text"
      },
      "source": [
        "# Sets { }\n",
        "\n",
        "\n",
        "1.   Set only contain unique items (duplicated in not allowed)\n",
        "2.   Set is very fast in terms of finding items in set\n",
        "\n"
      ]
    },
    {
      "cell_type": "code",
      "metadata": {
        "id": "C8V18y9E-ao8",
        "colab_type": "code",
        "colab": {}
      },
      "source": [
        "my_set = set(my_phone)"
      ],
      "execution_count": 0,
      "outputs": []
    },
    {
      "cell_type": "code",
      "metadata": {
        "id": "6RTYsC7C-d8b",
        "colab_type": "code",
        "colab": {
          "base_uri": "https://localhost:8080/",
          "height": 34
        },
        "outputId": "022c08c1-b114-48cf-f365-02c40dd6f896"
      },
      "source": [
        "print(my_set)"
      ],
      "execution_count": 198,
      "outputs": [
        {
          "output_type": "stream",
          "text": [
            "{False, '3G', 4.3, 'iphone 5s', 10000, 'single sim'}\n"
          ],
          "name": "stdout"
        }
      ]
    },
    {
      "cell_type": "code",
      "metadata": {
        "id": "x2g4e3OD-gNE",
        "colab_type": "code",
        "colab": {}
      },
      "source": [
        "my_phone.append(4.3)"
      ],
      "execution_count": 0,
      "outputs": []
    },
    {
      "cell_type": "code",
      "metadata": {
        "id": "zS48L7hE-sLc",
        "colab_type": "code",
        "colab": {
          "base_uri": "https://localhost:8080/",
          "height": 34
        },
        "outputId": "ffe841dc-1277-4f31-d601-d1e2499f13bd"
      },
      "source": [
        "print(my_phone)"
      ],
      "execution_count": 200,
      "outputs": [
        {
          "output_type": "stream",
          "text": [
            "['iphone 5s', False, 4.3, '3G', 'single sim', 10000, 4.3]\n"
          ],
          "name": "stdout"
        }
      ]
    },
    {
      "cell_type": "code",
      "metadata": {
        "id": "sWQHCTlJ-uER",
        "colab_type": "code",
        "colab": {}
      },
      "source": [
        "my_set = set(my_phone)"
      ],
      "execution_count": 0,
      "outputs": []
    },
    {
      "cell_type": "code",
      "metadata": {
        "id": "e9mgnetX-zmD",
        "colab_type": "code",
        "colab": {
          "base_uri": "https://localhost:8080/",
          "height": 34
        },
        "outputId": "0d21a1a4-b14c-41fb-f627-46edf415a85b"
      },
      "source": [
        "print(my_set)"
      ],
      "execution_count": 202,
      "outputs": [
        {
          "output_type": "stream",
          "text": [
            "{False, '3G', 4.3, 'iphone 5s', 10000, 'single sim'}\n"
          ],
          "name": "stdout"
        }
      ]
    },
    {
      "cell_type": "markdown",
      "metadata": {
        "id": "rYILFXDPFZbS",
        "colab_type": "text"
      },
      "source": [
        "**Advantage of sets**"
      ]
    },
    {
      "cell_type": "code",
      "metadata": {
        "id": "TvlS78hj-1qE",
        "colab_type": "code",
        "colab": {
          "base_uri": "https://localhost:8080/",
          "height": 85
        },
        "outputId": "58f75798-8ba6-493b-d1b6-ad243735dd18"
      },
      "source": [
        "my_list = list(range(1000000))\n",
        "tic = time.time()\n",
        "print(234234 in my_list_squared)\n",
        "print(575477 in my_list_squared)\n",
        "print(969876 in my_list_squared)\n",
        "toc = time.time()\n",
        "print(\"Elapsed time in seconds\",toc- tic)"
      ],
      "execution_count": 208,
      "outputs": [
        {
          "output_type": "stream",
          "text": [
            "False\n",
            "False\n",
            "False\n",
            "Elapsed time in seconds 0.0006344318389892578\n"
          ],
          "name": "stdout"
        }
      ]
    },
    {
      "cell_type": "code",
      "metadata": {
        "id": "sBLzFf0xFpi1",
        "colab_type": "code",
        "colab": {
          "base_uri": "https://localhost:8080/",
          "height": 85
        },
        "outputId": "39b0fbf2-d0ec-4f13-c606-80ee5bc000e3"
      },
      "source": [
        "my_set = set(range(1000000))\n",
        "tic = time.time()\n",
        "print(234234 in my_set_squared)\n",
        "print(575477 in my_set_squared)\n",
        "print(969876 in my_set_squared)\n",
        "toc = time.time()\n",
        "print(\"Elapsed time in seconds\",toc- tic)"
      ],
      "execution_count": 209,
      "outputs": [
        {
          "output_type": "stream",
          "text": [
            "False\n",
            "False\n",
            "False\n",
            "Elapsed time in seconds 0.0015938282012939453\n"
          ],
          "name": "stdout"
        }
      ]
    },
    {
      "cell_type": "markdown",
      "metadata": {
        "id": "Q4d0g5ZGHK3X",
        "colab_type": "text"
      },
      "source": [
        "# Dictionaries {'key' : 'value'}"
      ]
    },
    {
      "cell_type": "code",
      "metadata": {
        "id": "JR7Ev6HcIU0P",
        "colab_type": "code",
        "colab": {
          "base_uri": "https://localhost:8080/",
          "height": 34
        },
        "outputId": "e8060464-2e5c-4b4d-8f77-d9bff2b4c7c2"
      },
      "source": [
        "my_phone_dict={'a'} #important\n",
        "type(my_phone_dict)"
      ],
      "execution_count": 218,
      "outputs": [
        {
          "output_type": "execute_result",
          "data": {
            "text/plain": [
              "set"
            ]
          },
          "metadata": {
            "tags": []
          },
          "execution_count": 218
        }
      ]
    },
    {
      "cell_type": "code",
      "metadata": {
        "id": "Rb7mfZqFHIW2",
        "colab_type": "code",
        "colab": {
          "base_uri": "https://localhost:8080/",
          "height": 34
        },
        "outputId": "7dac33f9-1b53-4ec7-c79e-dbcfcbad675d"
      },
      "source": [
        "my_phone_dict={}\n",
        "type(my_phone_dict)"
      ],
      "execution_count": 219,
      "outputs": [
        {
          "output_type": "execute_result",
          "data": {
            "text/plain": [
              "dict"
            ]
          },
          "metadata": {
            "tags": []
          },
          "execution_count": 219
        }
      ]
    },
    {
      "cell_type": "code",
      "metadata": {
        "id": "37m2Gk8BH0Wh",
        "colab_type": "code",
        "colab": {}
      },
      "source": [
        "my_phone_dict['name'] ='Iphone5s'\n",
        "my_phone_dict['is_android'] = False\n",
        "my_phone_dict['screen_size'] = 4.3"
      ],
      "execution_count": 0,
      "outputs": []
    },
    {
      "cell_type": "code",
      "metadata": {
        "id": "wTbNQMEAIJVB",
        "colab_type": "code",
        "colab": {
          "base_uri": "https://localhost:8080/",
          "height": 34
        },
        "outputId": "ba5376a1-800f-4f0f-ec41-622815c027ea"
      },
      "source": [
        "print(my_phone_dict)"
      ],
      "execution_count": 221,
      "outputs": [
        {
          "output_type": "stream",
          "text": [
            "{'name': 'Iphone5s', 'is_android': False, 'screen_size': 4.3}\n"
          ],
          "name": "stdout"
        }
      ]
    },
    {
      "cell_type": "code",
      "metadata": {
        "id": "2kuUFk5PIhhw",
        "colab_type": "code",
        "colab": {
          "base_uri": "https://localhost:8080/",
          "height": 34
        },
        "outputId": "26e72355-0721-4544-9859-4f147627f411"
      },
      "source": [
        "my_phone_dict[\"name\"]"
      ],
      "execution_count": 222,
      "outputs": [
        {
          "output_type": "execute_result",
          "data": {
            "text/plain": [
              "'Iphone5s'"
            ]
          },
          "metadata": {
            "tags": []
          },
          "execution_count": 222
        }
      ]
    },
    {
      "cell_type": "code",
      "metadata": {
        "id": "kIqsRSz7Ik4H",
        "colab_type": "code",
        "colab": {
          "base_uri": "https://localhost:8080/",
          "height": 34
        },
        "outputId": "61de1db3-9bb0-4868-91a9-147e05875fed"
      },
      "source": [
        "print(my_phone_dict.keys())"
      ],
      "execution_count": 223,
      "outputs": [
        {
          "output_type": "stream",
          "text": [
            "dict_keys(['name', 'is_android', 'screen_size'])\n"
          ],
          "name": "stdout"
        }
      ]
    },
    {
      "cell_type": "code",
      "metadata": {
        "id": "C6t6KI7_Isy_",
        "colab_type": "code",
        "colab": {
          "base_uri": "https://localhost:8080/",
          "height": 34
        },
        "outputId": "605fd855-beec-45af-aa0c-64b19eb1b751"
      },
      "source": [
        "print(my_phone_dict.values())"
      ],
      "execution_count": 224,
      "outputs": [
        {
          "output_type": "stream",
          "text": [
            "dict_values(['Iphone5s', False, 4.3])\n"
          ],
          "name": "stdout"
        }
      ]
    },
    {
      "cell_type": "code",
      "metadata": {
        "id": "1jKs-0QDIwHR",
        "colab_type": "code",
        "colab": {
          "base_uri": "https://localhost:8080/",
          "height": 34
        },
        "outputId": "285d6bce-4275-4780-be84-e004f2a82601"
      },
      "source": [
        "print(my_phone_dict.items())"
      ],
      "execution_count": 225,
      "outputs": [
        {
          "output_type": "stream",
          "text": [
            "dict_items([('name', 'Iphone5s'), ('is_android', False), ('screen_size', 4.3)])\n"
          ],
          "name": "stdout"
        }
      ]
    },
    {
      "cell_type": "code",
      "metadata": {
        "id": "EPYZE8bmI0cs",
        "colab_type": "code",
        "colab": {
          "base_uri": "https://localhost:8080/",
          "height": 68
        },
        "outputId": "bb160bf8-01c1-451f-fe28-b7faa306c5b8"
      },
      "source": [
        "for data in my_phone_dict.keys():\n",
        "  print(data)"
      ],
      "execution_count": 227,
      "outputs": [
        {
          "output_type": "stream",
          "text": [
            "name\n",
            "is_android\n",
            "screen_size\n"
          ],
          "name": "stdout"
        }
      ]
    },
    {
      "cell_type": "code",
      "metadata": {
        "id": "xODzIejTI53W",
        "colab_type": "code",
        "colab": {
          "base_uri": "https://localhost:8080/",
          "height": 68
        },
        "outputId": "fbc1f78c-8bf7-4f2c-ebb6-62e4968ac671"
      },
      "source": [
        "for data in my_phone_dict.keys():\n",
        "  print(data,':',my_phone_dict[data])\n"
      ],
      "execution_count": 230,
      "outputs": [
        {
          "output_type": "stream",
          "text": [
            "name : Iphone5s\n",
            "is_android : False\n",
            "screen_size : 4.3\n"
          ],
          "name": "stdout"
        }
      ]
    },
    {
      "cell_type": "code",
      "metadata": {
        "id": "efoUWdJyJQqE",
        "colab_type": "code",
        "colab": {}
      },
      "source": [
        ""
      ],
      "execution_count": 0,
      "outputs": []
    }
  ]
}