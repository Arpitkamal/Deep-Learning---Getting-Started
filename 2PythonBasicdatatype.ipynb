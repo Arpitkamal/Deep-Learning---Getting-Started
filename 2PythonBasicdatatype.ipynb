{
  "nbformat": 4,
  "nbformat_minor": 0,
  "metadata": {
    "colab": {
      "name": "2PythonBasicdatatype.ipynb",
      "provenance": [],
      "authorship_tag": "ABX9TyN3k3vqqwymm6C+f2pUPdX4",
      "include_colab_link": true
    },
    "kernelspec": {
      "name": "python3",
      "display_name": "Python 3"
    }
  },
  "cells": [
    {
      "cell_type": "markdown",
      "metadata": {
        "id": "view-in-github",
        "colab_type": "text"
      },
      "source": [
        "<a href=\"https://colab.research.google.com/github/Arpitkamal/Deep-Learning---Getting-Started/blob/master/2PythonBasicdatatype.ipynb\" target=\"_parent\"><img src=\"https://colab.research.google.com/assets/colab-badge.svg\" alt=\"Open In Colab\"/></a>"
      ]
    },
    {
      "cell_type": "code",
      "metadata": {
        "id": "89IzkT3F3p7P",
        "colab_type": "code",
        "colab": {}
      },
      "source": [
        "name ='iphone 5s'"
      ],
      "execution_count": 0,
      "outputs": []
    },
    {
      "cell_type": "code",
      "metadata": {
        "id": "uZAcbxyk4Ok4",
        "colab_type": "code",
        "colab": {
          "base_uri": "https://localhost:8080/",
          "height": 34
        },
        "outputId": "5bac7bc6-d0cf-4534-aef5-f70dce77c22b"
      },
      "source": [
        "type(name)"
      ],
      "execution_count": 2,
      "outputs": [
        {
          "output_type": "execute_result",
          "data": {
            "text/plain": [
              "str"
            ]
          },
          "metadata": {
            "tags": []
          },
          "execution_count": 2
        }
      ]
    },
    {
      "cell_type": "code",
      "metadata": {
        "id": "GGRKmI1F4UW2",
        "colab_type": "code",
        "colab": {
          "base_uri": "https://localhost:8080/",
          "height": 34
        },
        "outputId": "487c0902-4e2c-4b5e-979d-93fdc2f8e999"
      },
      "source": [
        "print(name)"
      ],
      "execution_count": 3,
      "outputs": [
        {
          "output_type": "stream",
          "text": [
            "iphone 5s, arpit kamal\n"
          ],
          "name": "stdout"
        }
      ]
    },
    {
      "cell_type": "code",
      "metadata": {
        "id": "fEkJO-TR4Yd8",
        "colab_type": "code",
        "colab": {
          "base_uri": "https://localhost:8080/",
          "height": 34
        },
        "outputId": "6bdc0c31-da6b-428c-8147-228eeb6189d4"
      },
      "source": [
        "screen_size = 4.3\n",
        "type(screen_size)"
      ],
      "execution_count": 4,
      "outputs": [
        {
          "output_type": "execute_result",
          "data": {
            "text/plain": [
              "float"
            ]
          },
          "metadata": {
            "tags": []
          },
          "execution_count": 4
        }
      ]
    },
    {
      "cell_type": "code",
      "metadata": {
        "id": "2knA6yNp4hpF",
        "colab_type": "code",
        "colab": {}
      },
      "source": [
        "no_of_speaker=1"
      ],
      "execution_count": 0,
      "outputs": []
    },
    {
      "cell_type": "code",
      "metadata": {
        "id": "ujNmbQdp4uUn",
        "colab_type": "code",
        "colab": {
          "base_uri": "https://localhost:8080/",
          "height": 34
        },
        "outputId": "41da9ca3-2bc5-4dd6-d3f0-ffe51efc41c8"
      },
      "source": [
        "type(no_of_speaker)"
      ],
      "execution_count": 6,
      "outputs": [
        {
          "output_type": "execute_result",
          "data": {
            "text/plain": [
              "int"
            ]
          },
          "metadata": {
            "tags": []
          },
          "execution_count": 6
        }
      ]
    },
    {
      "cell_type": "code",
      "metadata": {
        "id": "LRls52l34_O_",
        "colab_type": "code",
        "colab": {
          "base_uri": "https://localhost:8080/",
          "height": 34
        },
        "outputId": "673d4d5a-b195-466d-94be-696aa6bca89d"
      },
      "source": [
        "print('i bought an '+name)"
      ],
      "execution_count": 9,
      "outputs": [
        {
          "output_type": "stream",
          "text": [
            "i bought an iphone 5s\n"
          ],
          "name": "stdout"
        }
      ]
    },
    {
      "cell_type": "code",
      "metadata": {
        "id": "TCZ4mNAa5epJ",
        "colab_type": "code",
        "colab": {
          "base_uri": "https://localhost:8080/",
          "height": 34
        },
        "outputId": "0bf440b3-43d8-4da0-914b-9c781a1d20ac"
      },
      "source": [
        "a=5\n",
        "b=2\n",
        "print(a+b,a*b,a/b,a ** b, a // b)"
      ],
      "execution_count": 10,
      "outputs": [
        {
          "output_type": "stream",
          "text": [
            "7 10 2.5 25 2\n"
          ],
          "name": "stdout"
        }
      ]
    },
    {
      "cell_type": "code",
      "metadata": {
        "id": "kqqUJP3n5qq0",
        "colab_type": "code",
        "colab": {
          "base_uri": "https://localhost:8080/",
          "height": 34
        },
        "outputId": "1986ea13-113c-47ef-b683-ad373a587589"
      },
      "source": [
        "is_android = False\n",
        "type(is_android)"
      ],
      "execution_count": 11,
      "outputs": [
        {
          "output_type": "execute_result",
          "data": {
            "text/plain": [
              "bool"
            ]
          },
          "metadata": {
            "tags": []
          },
          "execution_count": 11
        }
      ]
    },
    {
      "cell_type": "code",
      "metadata": {
        "id": "gRmzgHvj6EIW",
        "colab_type": "code",
        "colab": {
          "base_uri": "https://localhost:8080/",
          "height": 34
        },
        "outputId": "5dd82020-5b72-40ed-a2ef-68fcba9db11b"
      },
      "source": [
        "print(is_android == False and no_of_speaker >1)"
      ],
      "execution_count": 12,
      "outputs": [
        {
          "output_type": "stream",
          "text": [
            "False\n"
          ],
          "name": "stdout"
        }
      ]
    },
    {
      "cell_type": "code",
      "metadata": {
        "id": "3SjwXqLH6NOq",
        "colab_type": "code",
        "colab": {
          "base_uri": "https://localhost:8080/",
          "height": 34
        },
        "outputId": "ca087337-9ceb-4fa6-ac38-0650c5a97d9d"
      },
      "source": [
        "if is_android==False:\n",
        "  print('my phone is iphone')"
      ],
      "execution_count": 13,
      "outputs": [
        {
          "output_type": "stream",
          "text": [
            "my phone is iphone\n"
          ],
          "name": "stdout"
        }
      ]
    },
    {
      "cell_type": "code",
      "metadata": {
        "id": "Xdp52AFa6XyT",
        "colab_type": "code",
        "colab": {
          "base_uri": "https://localhost:8080/",
          "height": 102
        },
        "outputId": "79a06ef3-c877-46cc-bb54-bf61f1d7e45d"
      },
      "source": [
        "for i in range(5):\n",
        "  print(i , i ** 2)"
      ],
      "execution_count": 14,
      "outputs": [
        {
          "output_type": "stream",
          "text": [
            "0 0\n",
            "1 1\n",
            "2 4\n",
            "3 9\n",
            "4 16\n"
          ],
          "name": "stdout"
        }
      ]
    },
    {
      "cell_type": "code",
      "metadata": {
        "id": "18m_Gc5A64aV",
        "colab_type": "code",
        "colab": {}
      },
      "source": [
        "range?"
      ],
      "execution_count": 0,
      "outputs": []
    },
    {
      "cell_type": "code",
      "metadata": {
        "id": "2Gi4diht663F",
        "colab_type": "code",
        "colab": {
          "base_uri": "https://localhost:8080/",
          "height": 102
        },
        "outputId": "68347653-4db8-4ca2-d714-98aa6401e7ae"
      },
      "source": [
        "i = 0\n",
        "while i < 5:\n",
        "  print(i , i ** 2)\n",
        "  i += 1 # i = i+1"
      ],
      "execution_count": 18,
      "outputs": [
        {
          "output_type": "stream",
          "text": [
            "0 0\n",
            "1 1\n",
            "2 4\n",
            "3 9\n",
            "4 16\n"
          ],
          "name": "stdout"
        }
      ]
    },
    {
      "cell_type": "code",
      "metadata": {
        "id": "eX5PJ-xd7Z6Y",
        "colab_type": "code",
        "colab": {}
      },
      "source": [
        "def print_square(stop_val):\n",
        "  for i in range(stop_val):\n",
        "    print(i ,i ** 2)"
      ],
      "execution_count": 0,
      "outputs": []
    },
    {
      "cell_type": "code",
      "metadata": {
        "id": "aikIRf_G75RZ",
        "colab_type": "code",
        "colab": {
          "base_uri": "https://localhost:8080/",
          "height": 170
        },
        "outputId": "9e33ca3a-b300-43d0-90dc-a3765908493f"
      },
      "source": [
        "print_square(9)"
      ],
      "execution_count": 22,
      "outputs": [
        {
          "output_type": "stream",
          "text": [
            "0 0\n",
            "1 1\n",
            "2 4\n",
            "3 9\n",
            "4 16\n",
            "5 25\n",
            "6 36\n",
            "7 49\n",
            "8 64\n"
          ],
          "name": "stdout"
        }
      ]
    },
    {
      "cell_type": "code",
      "metadata": {
        "id": "TqpvklYI8HBJ",
        "colab_type": "code",
        "colab": {}
      },
      "source": [
        "def sum_of_square(stop_val):\n",
        "  sum = 0\n",
        "  for i in range(stop_val):\n",
        "    sum += i **2\n",
        "  return(sum)"
      ],
      "execution_count": 0,
      "outputs": []
    },
    {
      "cell_type": "code",
      "metadata": {
        "id": "_ioPEVkm9Kbg",
        "colab_type": "code",
        "colab": {
          "base_uri": "https://localhost:8080/",
          "height": 34
        },
        "outputId": "fd096710-4429-4a01-fe65-90aef0b50869"
      },
      "source": [
        "sum_of_square(5)"
      ],
      "execution_count": 26,
      "outputs": [
        {
          "output_type": "execute_result",
          "data": {
            "text/plain": [
              "30"
            ]
          },
          "metadata": {
            "tags": []
          },
          "execution_count": 26
        }
      ]
    },
    {
      "cell_type": "code",
      "metadata": {
        "id": "NO03jlgH9SK5",
        "colab_type": "code",
        "colab": {}
      },
      "source": [
        "def print_square_value_with_startval(stop_val, start_val=0):\n",
        "  '''prints of squares of numbers starting from start_val(inclusive) and ending with stop_val (exclusive) '''\n",
        "  for i in range(start_val ,stop_val):\n",
        "    print(i , i ** 2)"
      ],
      "execution_count": 0,
      "outputs": []
    },
    {
      "cell_type": "code",
      "metadata": {
        "id": "FIrSDFbB-Pn8",
        "colab_type": "code",
        "colab": {
          "base_uri": "https://localhost:8080/",
          "height": 68
        },
        "outputId": "5758f015-8bc2-4bb5-8669-dd78e972fea2"
      },
      "source": [
        "print_square_value_with_startval(5 ,2)"
      ],
      "execution_count": 38,
      "outputs": [
        {
          "output_type": "stream",
          "text": [
            "2 4\n",
            "3 9\n",
            "4 16\n"
          ],
          "name": "stdout"
        }
      ]
    },
    {
      "cell_type": "code",
      "metadata": {
        "id": "qINnqcM3-UEf",
        "colab_type": "code",
        "colab": {
          "base_uri": "https://localhost:8080/",
          "height": 102
        },
        "outputId": "9fcfdb91-35a9-4deb-e882-e73788b77893"
      },
      "source": [
        "help(print_square_value_with_startval)"
      ],
      "execution_count": 39,
      "outputs": [
        {
          "output_type": "stream",
          "text": [
            "Help on function print_square_value_with_startval in module __main__:\n",
            "\n",
            "print_square_value_with_startval(stop_val, start_val=0)\n",
            "    prints of squares of numbers starting from start_val(inclusive) and ending with stop_val (exclusive)\n",
            "\n"
          ],
          "name": "stdout"
        }
      ]
    },
    {
      "cell_type": "code",
      "metadata": {
        "id": "3EjLQJ2h_fmL",
        "colab_type": "code",
        "colab": {}
      },
      "source": [
        "print_square_value_with_startval?"
      ],
      "execution_count": 0,
      "outputs": []
    },
    {
      "cell_type": "code",
      "metadata": {
        "id": "0sqaBRkd_iUo",
        "colab_type": "code",
        "colab": {}
      },
      "source": [
        ""
      ],
      "execution_count": 0,
      "outputs": []
    }
  ]
}