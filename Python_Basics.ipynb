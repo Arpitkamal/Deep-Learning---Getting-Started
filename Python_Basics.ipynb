{
  "nbformat": 4,
  "nbformat_minor": 0,
  "metadata": {
    "colab": {
      "name": "Python Basics.ipynb",
      "provenance": [],
      "authorship_tag": "ABX9TyNN82t/0ZM98IzdTPAHQYRf",
      "include_colab_link": true
    },
    "kernelspec": {
      "name": "python3",
      "display_name": "Python 3"
    },
    "accelerator": "GPU"
  },
  "cells": [
    {
      "cell_type": "markdown",
      "metadata": {
        "id": "view-in-github",
        "colab_type": "text"
      },
      "source": [
        "<a href=\"https://colab.research.google.com/github/Arpitkamal/Deep-Learning---Getting-Started/blob/master/Python_Basics.ipynb\" target=\"_parent\"><img src=\"https://colab.research.google.com/assets/colab-badge.svg\" alt=\"Open In Colab\"/></a>"
      ]
    },
    {
      "cell_type": "markdown",
      "metadata": {
        "id": "j2GQxIzE505d",
        "colab_type": "text"
      },
      "source": [
        "# Simple data type and operations"
      ]
    },
    {
      "cell_type": "code",
      "metadata": {
        "id": "89IzkT3F3p7P",
        "colab_type": "code",
        "colab": {}
      },
      "source": [
        "name ='iphone 5s'"
      ],
      "execution_count": 0,
      "outputs": []
    },
    {
      "cell_type": "code",
      "metadata": {
        "id": "uZAcbxyk4Ok4",
        "colab_type": "code",
        "outputId": "3e238fd7-f192-43b8-ce22-851c920df614",
        "colab": {
          "base_uri": "https://localhost:8080/",
          "height": 34
        }
      },
      "source": [
        "type(name)"
      ],
      "execution_count": 0,
      "outputs": [
        {
          "output_type": "execute_result",
          "data": {
            "text/plain": [
              "str"
            ]
          },
          "metadata": {
            "tags": []
          },
          "execution_count": 2
        }
      ]
    },
    {
      "cell_type": "code",
      "metadata": {
        "id": "GGRKmI1F4UW2",
        "colab_type": "code",
        "outputId": "54a5a854-0198-4ad3-f1f5-5055e4a3aa5a",
        "colab": {
          "base_uri": "https://localhost:8080/",
          "height": 34
        }
      },
      "source": [
        "print(name)"
      ],
      "execution_count": 0,
      "outputs": [
        {
          "output_type": "stream",
          "text": [
            "iphone 5s\n"
          ],
          "name": "stdout"
        }
      ]
    },
    {
      "cell_type": "code",
      "metadata": {
        "id": "fEkJO-TR4Yd8",
        "colab_type": "code",
        "outputId": "88239d3c-bc51-45d0-8b7e-be3070cfee87",
        "colab": {
          "base_uri": "https://localhost:8080/",
          "height": 34
        }
      },
      "source": [
        "screen_size = 4.3\n",
        "type(screen_size)"
      ],
      "execution_count": 0,
      "outputs": [
        {
          "output_type": "execute_result",
          "data": {
            "text/plain": [
              "float"
            ]
          },
          "metadata": {
            "tags": []
          },
          "execution_count": 4
        }
      ]
    },
    {
      "cell_type": "code",
      "metadata": {
        "id": "2knA6yNp4hpF",
        "colab_type": "code",
        "colab": {}
      },
      "source": [
        "no_of_speaker=1"
      ],
      "execution_count": 0,
      "outputs": []
    },
    {
      "cell_type": "code",
      "metadata": {
        "id": "ujNmbQdp4uUn",
        "colab_type": "code",
        "outputId": "560ec949-f1f4-4e4b-bfde-e97043a81f3d",
        "colab": {
          "base_uri": "https://localhost:8080/",
          "height": 34
        }
      },
      "source": [
        "type(no_of_speaker)"
      ],
      "execution_count": 0,
      "outputs": [
        {
          "output_type": "execute_result",
          "data": {
            "text/plain": [
              "int"
            ]
          },
          "metadata": {
            "tags": []
          },
          "execution_count": 6
        }
      ]
    },
    {
      "cell_type": "code",
      "metadata": {
        "id": "LRls52l34_O_",
        "colab_type": "code",
        "outputId": "d4be25cf-2210-4cac-cfaa-50b0ca0d9402",
        "colab": {
          "base_uri": "https://localhost:8080/",
          "height": 34
        }
      },
      "source": [
        "print('i bought an '+name)"
      ],
      "execution_count": 0,
      "outputs": [
        {
          "output_type": "stream",
          "text": [
            "i bought an iphone 5s\n"
          ],
          "name": "stdout"
        }
      ]
    },
    {
      "cell_type": "code",
      "metadata": {
        "id": "TCZ4mNAa5epJ",
        "colab_type": "code",
        "outputId": "03b3a254-ae7b-4de6-92dd-0eda39e5e0c7",
        "colab": {
          "base_uri": "https://localhost:8080/",
          "height": 34
        }
      },
      "source": [
        "a=5\n",
        "b=2\n",
        "print(a+b,a*b,a/b,a ** b, a // b)"
      ],
      "execution_count": 0,
      "outputs": [
        {
          "output_type": "stream",
          "text": [
            "7 10 2.5 25 2\n"
          ],
          "name": "stdout"
        }
      ]
    },
    {
      "cell_type": "code",
      "metadata": {
        "id": "kqqUJP3n5qq0",
        "colab_type": "code",
        "outputId": "cd6c11fa-3393-4f3f-b53d-2def31bc5767",
        "colab": {
          "base_uri": "https://localhost:8080/",
          "height": 34
        }
      },
      "source": [
        "is_android = False\n",
        "type(is_android)"
      ],
      "execution_count": 0,
      "outputs": [
        {
          "output_type": "execute_result",
          "data": {
            "text/plain": [
              "bool"
            ]
          },
          "metadata": {
            "tags": []
          },
          "execution_count": 9
        }
      ]
    },
    {
      "cell_type": "code",
      "metadata": {
        "id": "gRmzgHvj6EIW",
        "colab_type": "code",
        "outputId": "5b240bdb-74e5-4db7-bc3c-863a89cadf99",
        "colab": {
          "base_uri": "https://localhost:8080/",
          "height": 34
        }
      },
      "source": [
        "print(is_android == False and no_of_speaker >1)"
      ],
      "execution_count": 0,
      "outputs": [
        {
          "output_type": "stream",
          "text": [
            "False\n"
          ],
          "name": "stdout"
        }
      ]
    },
    {
      "cell_type": "markdown",
      "metadata": {
        "id": "BU-pfluo6AdL",
        "colab_type": "text"
      },
      "source": [
        "# Code block- if,else,While"
      ]
    },
    {
      "cell_type": "code",
      "metadata": {
        "id": "3SjwXqLH6NOq",
        "colab_type": "code",
        "outputId": "9c6bf010-8a51-437e-ff41-ab0589de1c61",
        "colab": {
          "base_uri": "https://localhost:8080/",
          "height": 34
        }
      },
      "source": [
        "if is_android==False:\n",
        "  print('my phone is iphone')"
      ],
      "execution_count": 0,
      "outputs": [
        {
          "output_type": "stream",
          "text": [
            "my phone is iphone\n"
          ],
          "name": "stdout"
        }
      ]
    },
    {
      "cell_type": "code",
      "metadata": {
        "id": "eqQDjo986Sh-",
        "colab_type": "code",
        "outputId": "8465ed6d-3671-4b48-b828-8ffa78dcf98d",
        "colab": {
          "base_uri": "https://localhost:8080/",
          "height": 34
        }
      },
      "source": [
        "if 1>2:\n",
        "  print(\"1 is greater\")\n",
        "else:\n",
        "  print(\"2 is greater\")  "
      ],
      "execution_count": 0,
      "outputs": [
        {
          "output_type": "stream",
          "text": [
            "2 is greater\n"
          ],
          "name": "stdout"
        }
      ]
    },
    {
      "cell_type": "code",
      "metadata": {
        "id": "Xdp52AFa6XyT",
        "colab_type": "code",
        "outputId": "609f4bf7-4088-4d87-c3bb-2b0364818e73",
        "colab": {
          "base_uri": "https://localhost:8080/",
          "height": 102
        }
      },
      "source": [
        "for i in range(5):\n",
        "  print(i , i ** 2)"
      ],
      "execution_count": 0,
      "outputs": [
        {
          "output_type": "stream",
          "text": [
            "0 0\n",
            "1 1\n",
            "2 4\n",
            "3 9\n",
            "4 16\n"
          ],
          "name": "stdout"
        }
      ]
    },
    {
      "cell_type": "code",
      "metadata": {
        "id": "18m_Gc5A64aV",
        "colab_type": "code",
        "colab": {}
      },
      "source": [
        "range?"
      ],
      "execution_count": 0,
      "outputs": []
    },
    {
      "cell_type": "code",
      "metadata": {
        "id": "2Gi4diht663F",
        "colab_type": "code",
        "outputId": "3bb1d720-6aa8-44b6-a77b-71ba6aa7d66a",
        "colab": {
          "base_uri": "https://localhost:8080/",
          "height": 102
        }
      },
      "source": [
        "i = 0\n",
        "while i < 5:\n",
        "  print(i , i ** 2)\n",
        "  i += 1 # i = i+1"
      ],
      "execution_count": 0,
      "outputs": [
        {
          "output_type": "stream",
          "text": [
            "0 0\n",
            "1 1\n",
            "2 4\n",
            "3 9\n",
            "4 16\n"
          ],
          "name": "stdout"
        }
      ]
    },
    {
      "cell_type": "markdown",
      "metadata": {
        "id": "UmIiI5U26uQ_",
        "colab_type": "text"
      },
      "source": [
        "# Function"
      ]
    },
    {
      "cell_type": "code",
      "metadata": {
        "id": "eX5PJ-xd7Z6Y",
        "colab_type": "code",
        "colab": {}
      },
      "source": [
        "def print_square(stop_val):\n",
        "  for i in range(stop_val):\n",
        "    print(i ,i ** 2)"
      ],
      "execution_count": 0,
      "outputs": []
    },
    {
      "cell_type": "code",
      "metadata": {
        "id": "aikIRf_G75RZ",
        "colab_type": "code",
        "outputId": "7a732c2a-67ff-44aa-fc2f-55f8728de947",
        "colab": {
          "base_uri": "https://localhost:8080/",
          "height": 170
        }
      },
      "source": [
        "print_square(9)"
      ],
      "execution_count": 0,
      "outputs": [
        {
          "output_type": "stream",
          "text": [
            "0 0\n",
            "1 1\n",
            "2 4\n",
            "3 9\n",
            "4 16\n",
            "5 25\n",
            "6 36\n",
            "7 49\n",
            "8 64\n"
          ],
          "name": "stdout"
        }
      ]
    },
    {
      "cell_type": "code",
      "metadata": {
        "id": "TqpvklYI8HBJ",
        "colab_type": "code",
        "colab": {}
      },
      "source": [
        "def sum_of_square(stop_val):\n",
        "  sum = 0\n",
        "  for i in range(stop_val):\n",
        "    sum += i **2\n",
        "  return(sum)"
      ],
      "execution_count": 0,
      "outputs": []
    },
    {
      "cell_type": "code",
      "metadata": {
        "id": "_ioPEVkm9Kbg",
        "colab_type": "code",
        "outputId": "f8ebd358-44a5-46ac-fd6f-342fc4adb786",
        "colab": {
          "base_uri": "https://localhost:8080/",
          "height": 34
        }
      },
      "source": [
        "sum_of_square(5)"
      ],
      "execution_count": 0,
      "outputs": [
        {
          "output_type": "execute_result",
          "data": {
            "text/plain": [
              "30"
            ]
          },
          "metadata": {
            "tags": []
          },
          "execution_count": 19
        }
      ]
    },
    {
      "cell_type": "code",
      "metadata": {
        "id": "NO03jlgH9SK5",
        "colab_type": "code",
        "colab": {}
      },
      "source": [
        "def print_square_value_with_startval(stop_val, start_val=0):\n",
        "  '''prints of squares of numbers starting from start_val(inclusive) and ending with stop_val (exclusive) '''\n",
        "  for i in range(start_val ,stop_val):\n",
        "    print(i , i ** 2)"
      ],
      "execution_count": 0,
      "outputs": []
    },
    {
      "cell_type": "code",
      "metadata": {
        "id": "FIrSDFbB-Pn8",
        "colab_type": "code",
        "outputId": "6bed80ca-621d-4a76-84b2-9347120a99cf",
        "colab": {
          "base_uri": "https://localhost:8080/",
          "height": 68
        }
      },
      "source": [
        "print_square_value_with_startval(5 ,2)"
      ],
      "execution_count": 0,
      "outputs": [
        {
          "output_type": "stream",
          "text": [
            "2 4\n",
            "3 9\n",
            "4 16\n"
          ],
          "name": "stdout"
        }
      ]
    },
    {
      "cell_type": "code",
      "metadata": {
        "id": "qINnqcM3-UEf",
        "colab_type": "code",
        "outputId": "ea9b5a19-bac5-4de2-dab2-c82413d765f9",
        "colab": {
          "base_uri": "https://localhost:8080/",
          "height": 122
        }
      },
      "source": [
        "help(print_square_value_with_startval)"
      ],
      "execution_count": 0,
      "outputs": [
        {
          "output_type": "stream",
          "text": [
            "Help on function print_square_value_with_startval in module __main__:\n",
            "\n",
            "print_square_value_with_startval(stop_val, start_val=0)\n",
            "    prints of squares of numbers starting from start_val(inclusive) and ending with stop_val (exclusive)\n",
            "\n"
          ],
          "name": "stdout"
        }
      ]
    },
    {
      "cell_type": "code",
      "metadata": {
        "id": "3EjLQJ2h_fmL",
        "colab_type": "code",
        "colab": {}
      },
      "source": [
        "print_square_value_with_startval?"
      ],
      "execution_count": 0,
      "outputs": []
    },
    {
      "cell_type": "code",
      "metadata": {
        "id": "0sqaBRkd_iUo",
        "colab_type": "code",
        "colab": {}
      },
      "source": [
        ""
      ],
      "execution_count": 0,
      "outputs": []
    },
    {
      "cell_type": "markdown",
      "metadata": {
        "id": "mqaotCd-6593",
        "colab_type": "text"
      },
      "source": [
        "# List [ ]\n",
        "**1 Modification is allowed**\n",
        "\n",
        "**2 List operation take more time as compared to tupe because they are mutable**"
      ]
    },
    {
      "cell_type": "code",
      "metadata": {
        "id": "H0OE86Ug7EPc",
        "colab_type": "code",
        "colab": {}
      },
      "source": [
        "my_phone = [name, is_android, screen_size]"
      ],
      "execution_count": 0,
      "outputs": []
    },
    {
      "cell_type": "code",
      "metadata": {
        "id": "9XnMonW77OWI",
        "colab_type": "code",
        "outputId": "508d39bf-0f98-4f36-a852-ab87c6ba3727",
        "colab": {
          "base_uri": "https://localhost:8080/",
          "height": 34
        }
      },
      "source": [
        "type(my_phone)"
      ],
      "execution_count": 0,
      "outputs": [
        {
          "output_type": "execute_result",
          "data": {
            "text/plain": [
              "list"
            ]
          },
          "metadata": {
            "tags": []
          },
          "execution_count": 25
        }
      ]
    },
    {
      "cell_type": "code",
      "metadata": {
        "id": "dB-fOJoz8DC2",
        "colab_type": "code",
        "outputId": "81d271fe-f5f4-4f63-ac9b-92652988199f",
        "colab": {
          "base_uri": "https://localhost:8080/",
          "height": 34
        }
      },
      "source": [
        "print(my_phone)"
      ],
      "execution_count": 0,
      "outputs": [
        {
          "output_type": "stream",
          "text": [
            "['iphone 5s', False, 4.3]\n"
          ],
          "name": "stdout"
        }
      ]
    },
    {
      "cell_type": "code",
      "metadata": {
        "id": "6n6ceS9j8FMZ",
        "colab_type": "code",
        "outputId": "73a5549a-bdea-40f9-a573-8354afc11a2e",
        "colab": {
          "base_uri": "https://localhost:8080/",
          "height": 34
        }
      },
      "source": [
        "my_phone[0]"
      ],
      "execution_count": 0,
      "outputs": [
        {
          "output_type": "execute_result",
          "data": {
            "text/plain": [
              "'iphone 5s'"
            ]
          },
          "metadata": {
            "tags": []
          },
          "execution_count": 27
        }
      ]
    },
    {
      "cell_type": "code",
      "metadata": {
        "id": "7CjRGniO8J1n",
        "colab_type": "code",
        "outputId": "9c542289-02e5-4b11-8b7e-f65e4a464d3e",
        "colab": {
          "base_uri": "https://localhost:8080/",
          "height": 34
        }
      },
      "source": [
        "type(my_phone)"
      ],
      "execution_count": 0,
      "outputs": [
        {
          "output_type": "execute_result",
          "data": {
            "text/plain": [
              "list"
            ]
          },
          "metadata": {
            "tags": []
          },
          "execution_count": 28
        }
      ]
    },
    {
      "cell_type": "code",
      "metadata": {
        "id": "3Vf5keDf8Nw7",
        "colab_type": "code",
        "outputId": "7b4dbfef-8a17-4067-9538-a3efa804e4eb",
        "colab": {
          "base_uri": "https://localhost:8080/",
          "height": 34
        }
      },
      "source": [
        "my_phone[0:2]"
      ],
      "execution_count": 0,
      "outputs": [
        {
          "output_type": "execute_result",
          "data": {
            "text/plain": [
              "['iphone 5s', False]"
            ]
          },
          "metadata": {
            "tags": []
          },
          "execution_count": 29
        }
      ]
    },
    {
      "cell_type": "code",
      "metadata": {
        "id": "gR1umUwD8Sug",
        "colab_type": "code",
        "outputId": "7cb0659e-4755-4a42-cfeb-e17468dd8fce",
        "colab": {
          "base_uri": "https://localhost:8080/",
          "height": 34
        }
      },
      "source": [
        "my_dads_phone = my_phone #sharing reference with each other \n",
        "print(my_dads_phone)"
      ],
      "execution_count": 0,
      "outputs": [
        {
          "output_type": "stream",
          "text": [
            "['iphone 5s', False, 4.3]\n"
          ],
          "name": "stdout"
        }
      ]
    },
    {
      "cell_type": "code",
      "metadata": {
        "id": "3glHA56i8dsZ",
        "colab_type": "code",
        "colab": {}
      },
      "source": [
        "my_phone[2]=4"
      ],
      "execution_count": 0,
      "outputs": []
    },
    {
      "cell_type": "code",
      "metadata": {
        "id": "5A_GpFwI0PVD",
        "colab_type": "code",
        "outputId": "3fd543c4-9312-4733-fef8-a3f8d02d9bc8",
        "colab": {
          "base_uri": "https://localhost:8080/",
          "height": 34
        }
      },
      "source": [
        "my_phone"
      ],
      "execution_count": 0,
      "outputs": [
        {
          "output_type": "execute_result",
          "data": {
            "text/plain": [
              "['iphone 5s', False, 4]"
            ]
          },
          "metadata": {
            "tags": []
          },
          "execution_count": 32
        }
      ]
    },
    {
      "cell_type": "code",
      "metadata": {
        "id": "J1zgQhIC0RG7",
        "colab_type": "code",
        "outputId": "b62be71a-5a7d-4d72-ceee-d48ec794737c",
        "colab": {
          "base_uri": "https://localhost:8080/",
          "height": 34
        }
      },
      "source": [
        "my_dads_phone"
      ],
      "execution_count": 0,
      "outputs": [
        {
          "output_type": "execute_result",
          "data": {
            "text/plain": [
              "['iphone 5s', False, 4]"
            ]
          },
          "metadata": {
            "tags": []
          },
          "execution_count": 33
        }
      ]
    },
    {
      "cell_type": "code",
      "metadata": {
        "id": "0kXipHQS0Sjg",
        "colab_type": "code",
        "colab": {}
      },
      "source": [
        "my_dads_phone = list(my_phone) # deep copy to avoid overwritting\n",
        "#my_dads_phone = my_phone[:]  2 way"
      ],
      "execution_count": 0,
      "outputs": []
    },
    {
      "cell_type": "code",
      "metadata": {
        "id": "DX3BNOLJ0yC9",
        "colab_type": "code",
        "colab": {}
      },
      "source": [
        "my_phone[2] = 4.3"
      ],
      "execution_count": 0,
      "outputs": []
    },
    {
      "cell_type": "code",
      "metadata": {
        "id": "TqLU5Spi1v36",
        "colab_type": "code",
        "outputId": "c3c204d0-6c30-41c7-c831-11b1463ee542",
        "colab": {
          "base_uri": "https://localhost:8080/",
          "height": 51
        }
      },
      "source": [
        "print(my_phone)\n",
        "print(my_dads_phone)"
      ],
      "execution_count": 0,
      "outputs": [
        {
          "output_type": "stream",
          "text": [
            "['iphone 5s', False, 4.3]\n",
            "['iphone 5s', False, 4]\n"
          ],
          "name": "stdout"
        }
      ]
    },
    {
      "cell_type": "code",
      "metadata": {
        "id": "3e4vp5Rb1zlR",
        "colab_type": "code",
        "outputId": "7e9984b6-7fe3-45c7-b3a9-33e2ca2d20fe",
        "colab": {
          "base_uri": "https://localhost:8080/",
          "height": 34
        }
      },
      "source": [
        "len(my_phone)"
      ],
      "execution_count": 0,
      "outputs": [
        {
          "output_type": "execute_result",
          "data": {
            "text/plain": [
              "3"
            ]
          },
          "metadata": {
            "tags": []
          },
          "execution_count": 37
        }
      ]
    },
    {
      "cell_type": "code",
      "metadata": {
        "id": "EsyGXbPb2EnL",
        "colab_type": "code",
        "colab": {}
      },
      "source": [
        "len?"
      ],
      "execution_count": 0,
      "outputs": []
    },
    {
      "cell_type": "code",
      "metadata": {
        "id": "-htF3VXH2FYs",
        "colab_type": "code",
        "colab": {}
      },
      "source": [
        "my_phone.append('3G')"
      ],
      "execution_count": 0,
      "outputs": []
    },
    {
      "cell_type": "code",
      "metadata": {
        "id": "FzohIfhO2RK_",
        "colab_type": "code",
        "outputId": "d69f973c-ebbb-4c4b-b55a-7b72607414c3",
        "colab": {
          "base_uri": "https://localhost:8080/",
          "height": 34
        }
      },
      "source": [
        "my_phone"
      ],
      "execution_count": 0,
      "outputs": [
        {
          "output_type": "execute_result",
          "data": {
            "text/plain": [
              "['iphone 5s', False, 4.3, '3G']"
            ]
          },
          "metadata": {
            "tags": []
          },
          "execution_count": 40
        }
      ]
    },
    {
      "cell_type": "code",
      "metadata": {
        "id": "0HLBBkFW2S1N",
        "colab_type": "code",
        "outputId": "e56e3dc8-1480-4d36-9f07-e4da426b8a0d",
        "colab": {
          "base_uri": "https://localhost:8080/",
          "height": 34
        }
      },
      "source": [
        "len(my_phone)"
      ],
      "execution_count": 0,
      "outputs": [
        {
          "output_type": "execute_result",
          "data": {
            "text/plain": [
              "4"
            ]
          },
          "metadata": {
            "tags": []
          },
          "execution_count": 41
        }
      ]
    },
    {
      "cell_type": "code",
      "metadata": {
        "id": "iwBeZKQC2VWE",
        "colab_type": "code",
        "colab": {}
      },
      "source": [
        "iphone_some_prefs = [\"single sim\", 10000]"
      ],
      "execution_count": 0,
      "outputs": []
    },
    {
      "cell_type": "code",
      "metadata": {
        "id": "k6aDSwQF2n6a",
        "colab_type": "code",
        "colab": {}
      },
      "source": [
        "my_phone = my_phone + iphone_some_prefs"
      ],
      "execution_count": 0,
      "outputs": []
    },
    {
      "cell_type": "code",
      "metadata": {
        "id": "2Z4HlZaY2zLg",
        "colab_type": "code",
        "outputId": "40c5b984-f467-45b4-e9c6-e70c9ca26977",
        "colab": {
          "base_uri": "https://localhost:8080/",
          "height": 34
        }
      },
      "source": [
        "my_phone"
      ],
      "execution_count": 0,
      "outputs": [
        {
          "output_type": "execute_result",
          "data": {
            "text/plain": [
              "['iphone 5s', False, 4.3, '3G', 'single sim', 10000]"
            ]
          },
          "metadata": {
            "tags": []
          },
          "execution_count": 44
        }
      ]
    },
    {
      "cell_type": "code",
      "metadata": {
        "id": "nsyiVr5y20Zi",
        "colab_type": "code",
        "outputId": "af147c3a-0bbe-4446-b103-bf30d754ce93",
        "colab": {
          "base_uri": "https://localhost:8080/",
          "height": 119
        }
      },
      "source": [
        "for data in my_phone:\n",
        "  print(data)"
      ],
      "execution_count": 0,
      "outputs": [
        {
          "output_type": "stream",
          "text": [
            "iphone 5s\n",
            "False\n",
            "4.3\n",
            "3G\n",
            "single sim\n",
            "10000\n"
          ],
          "name": "stdout"
        }
      ]
    },
    {
      "cell_type": "code",
      "metadata": {
        "id": "za73MAz_25qh",
        "colab_type": "code",
        "outputId": "e47db5e8-4718-4704-df3d-7fdec122b6fc",
        "colab": {
          "base_uri": "https://localhost:8080/",
          "height": 34
        }
      },
      "source": [
        "print(list(range(5)))"
      ],
      "execution_count": 0,
      "outputs": [
        {
          "output_type": "stream",
          "text": [
            "[0, 1, 2, 3, 4]\n"
          ],
          "name": "stdout"
        }
      ]
    },
    {
      "cell_type": "code",
      "metadata": {
        "id": "Rbi_ZPHB3EoI",
        "colab_type": "code",
        "outputId": "48210916-bfc6-4c95-f2b4-663e563e53fd",
        "colab": {
          "base_uri": "https://localhost:8080/",
          "height": 34
        }
      },
      "source": [
        "a = list(range(5))\n",
        "print(a)"
      ],
      "execution_count": 0,
      "outputs": [
        {
          "output_type": "stream",
          "text": [
            "[0, 1, 2, 3, 4]\n"
          ],
          "name": "stdout"
        }
      ]
    },
    {
      "cell_type": "code",
      "metadata": {
        "id": "a9T4xeFD3RMO",
        "colab_type": "code",
        "colab": {}
      },
      "source": [
        "b = list(map(lambda x : x **2 , a))"
      ],
      "execution_count": 0,
      "outputs": []
    },
    {
      "cell_type": "code",
      "metadata": {
        "id": "w9bOwhNt3a79",
        "colab_type": "code",
        "outputId": "0513736b-69b5-42ff-ad68-0c36861d9587",
        "colab": {
          "base_uri": "https://localhost:8080/",
          "height": 34
        }
      },
      "source": [
        "print(b)"
      ],
      "execution_count": 0,
      "outputs": [
        {
          "output_type": "stream",
          "text": [
            "[0, 1, 4, 9, 16]\n"
          ],
          "name": "stdout"
        }
      ]
    },
    {
      "cell_type": "code",
      "metadata": {
        "id": "3RE5rAQr3cqc",
        "colab_type": "code",
        "colab": {}
      },
      "source": [
        "c = list(filter(lambda x : x%2==0 , b))"
      ],
      "execution_count": 0,
      "outputs": []
    },
    {
      "cell_type": "code",
      "metadata": {
        "id": "wmwBfBm33faz",
        "colab_type": "code",
        "outputId": "89403735-84d1-4fa0-d6fe-7b39c4715dab",
        "colab": {
          "base_uri": "https://localhost:8080/",
          "height": 34
        }
      },
      "source": [
        "print(c)"
      ],
      "execution_count": 0,
      "outputs": [
        {
          "output_type": "stream",
          "text": [
            "[0, 4, 16]\n"
          ],
          "name": "stdout"
        }
      ]
    },
    {
      "cell_type": "markdown",
      "metadata": {
        "id": "StFIy28b4Sin",
        "colab_type": "text"
      },
      "source": [
        "# Tuple ( )\n",
        "**1 Immutable data set(items cannot be reassigned)**\n",
        "\n",
        "**2 Tuple operation take less time as compared to list because they are non-mutable**"
      ]
    },
    {
      "cell_type": "code",
      "metadata": {
        "id": "f3m6ok114Ym2",
        "colab_type": "code",
        "outputId": "9b67dc70-65de-480b-ed1e-f569263d0233",
        "colab": {
          "base_uri": "https://localhost:8080/",
          "height": 51
        }
      },
      "source": [
        "print(my_phone)\n",
        "type(my_phone)"
      ],
      "execution_count": 0,
      "outputs": [
        {
          "output_type": "stream",
          "text": [
            "['iphone 5s', False, 4.3, '3G', 'single sim', 10000]\n"
          ],
          "name": "stdout"
        },
        {
          "output_type": "execute_result",
          "data": {
            "text/plain": [
              "list"
            ]
          },
          "metadata": {
            "tags": []
          },
          "execution_count": 52
        }
      ]
    },
    {
      "cell_type": "code",
      "metadata": {
        "id": "bxXn9hUr4kjJ",
        "colab_type": "code",
        "colab": {}
      },
      "source": [
        "my_phone_tuple = (\"iphone5s\" , False , 4.3)"
      ],
      "execution_count": 0,
      "outputs": []
    },
    {
      "cell_type": "code",
      "metadata": {
        "id": "GsZzUw4k4wS6",
        "colab_type": "code",
        "outputId": "a3f087a2-26df-4f75-9744-7f050b915ed2",
        "colab": {
          "base_uri": "https://localhost:8080/",
          "height": 34
        }
      },
      "source": [
        "type(my_phone_tuple)"
      ],
      "execution_count": 0,
      "outputs": [
        {
          "output_type": "execute_result",
          "data": {
            "text/plain": [
              "tuple"
            ]
          },
          "metadata": {
            "tags": []
          },
          "execution_count": 54
        }
      ]
    },
    {
      "cell_type": "code",
      "metadata": {
        "id": "iH4S0Erx4znJ",
        "colab_type": "code",
        "outputId": "17b2bf59-4557-43de-e08a-09f18d2a0260",
        "colab": {
          "base_uri": "https://localhost:8080/",
          "height": 34
        }
      },
      "source": [
        "my_phone_tuple"
      ],
      "execution_count": 0,
      "outputs": [
        {
          "output_type": "execute_result",
          "data": {
            "text/plain": [
              "('iphone5s', False, 4.3)"
            ]
          },
          "metadata": {
            "tags": []
          },
          "execution_count": 55
        }
      ]
    },
    {
      "cell_type": "code",
      "metadata": {
        "id": "Yi37xt5d43zn",
        "colab_type": "code",
        "colab": {}
      },
      "source": [
        "#my_phone_tuple[2] = 4 # items cannot be reassigned"
      ],
      "execution_count": 0,
      "outputs": []
    },
    {
      "cell_type": "code",
      "metadata": {
        "id": "B3sCOOn05Lk0",
        "colab_type": "code",
        "colab": {}
      },
      "source": [
        "import time"
      ],
      "execution_count": 0,
      "outputs": []
    },
    {
      "cell_type": "code",
      "metadata": {
        "id": "EDex3XpX6HDZ",
        "colab_type": "code",
        "outputId": "ed8665ae-6b65-4eb0-c41c-d73e60083121",
        "colab": {
          "base_uri": "https://localhost:8080/",
          "height": 34
        }
      },
      "source": [
        "tic = time.time()\n",
        "tic"
      ],
      "execution_count": 0,
      "outputs": [
        {
          "output_type": "execute_result",
          "data": {
            "text/plain": [
              "1585499520.4455094"
            ]
          },
          "metadata": {
            "tags": []
          },
          "execution_count": 58
        }
      ]
    },
    {
      "cell_type": "code",
      "metadata": {
        "id": "ORZsrdWW6Ku0",
        "colab_type": "code",
        "colab": {}
      },
      "source": [
        "time.time?"
      ],
      "execution_count": 0,
      "outputs": []
    },
    {
      "cell_type": "code",
      "metadata": {
        "id": "rjdlrtlC6O5u",
        "colab_type": "code",
        "outputId": "1cabbef2-680b-481d-cf47-20acb01829f6",
        "colab": {
          "base_uri": "https://localhost:8080/",
          "height": 34
        }
      },
      "source": [
        "tic = time.time()\n",
        "# do sometask which take same time that is to be measured\n",
        "toc = time.time()\n",
        "print(\"Elapsed time in seconds\",toc- tic)"
      ],
      "execution_count": 0,
      "outputs": [
        {
          "output_type": "stream",
          "text": [
            "Elapsed time in seconds 2.5033950805664062e-05\n"
          ],
          "name": "stdout"
        }
      ]
    },
    {
      "cell_type": "markdown",
      "metadata": {
        "id": "C93WmDoF9qD1",
        "colab_type": "text"
      },
      "source": [
        "**Why do we need another data type?**"
      ]
    },
    {
      "cell_type": "code",
      "metadata": {
        "id": "_AgFloed6mrE",
        "colab_type": "code",
        "outputId": "e35ab03f-71b9-4b38-8408-cad9f1a399b4",
        "colab": {
          "base_uri": "https://localhost:8080/",
          "height": 34
        }
      },
      "source": [
        "my_list = list(range(1000000))\n",
        "tic = time.time()\n",
        "my_list_squared = list(map(lambda x : x ** 2, my_list))\n",
        "my_list_squared[234234]\n",
        "my_list_squared[344564]\n",
        "my_list_squared[436545]\n",
        "toc = time.time()\n",
        "print(\"Elapsed time in seconds\",toc- tic)"
      ],
      "execution_count": 0,
      "outputs": [
        {
          "output_type": "stream",
          "text": [
            "Elapsed time in seconds 0.29980015754699707\n"
          ],
          "name": "stdout"
        }
      ]
    },
    {
      "cell_type": "markdown",
      "metadata": {
        "id": "INrcTG218S05",
        "colab_type": "text"
      },
      "source": [
        "**Tuple operation take less time as compared to list because they are non-mutable(run both cell twice)**"
      ]
    },
    {
      "cell_type": "code",
      "metadata": {
        "id": "4SQkBwta7oQw",
        "colab_type": "code",
        "outputId": "02a16fda-7630-4c9c-c38d-7ce82c82566c",
        "colab": {
          "base_uri": "https://localhost:8080/",
          "height": 34
        }
      },
      "source": [
        "my_tuple = tuple(range(1000000))\n",
        "tic = time.time()\n",
        "my_list_squared = tuple(map(lambda x : x ** 2, my_tuple))\n",
        "my_list_squared[234234]\n",
        "my_list_squared[344564]\n",
        "my_list_squared[436545]\n",
        "toc = time.time()\n",
        "print(\"Elapsed time in seconds\",toc- tic)"
      ],
      "execution_count": 0,
      "outputs": [
        {
          "output_type": "stream",
          "text": [
            "Elapsed time in seconds 0.2805643081665039\n"
          ],
          "name": "stdout"
        }
      ]
    },
    {
      "cell_type": "markdown",
      "metadata": {
        "id": "AZgJ0meU-Kw6",
        "colab_type": "text"
      },
      "source": [
        "# Sets { }\n",
        "\n",
        "\n",
        "1.   Set only contain unique items (duplicated in not allowed)\n",
        "2.   Set is very fast in terms of finding items in set\n",
        "\n"
      ]
    },
    {
      "cell_type": "code",
      "metadata": {
        "id": "C8V18y9E-ao8",
        "colab_type": "code",
        "colab": {}
      },
      "source": [
        "my_set = set(my_phone)"
      ],
      "execution_count": 0,
      "outputs": []
    },
    {
      "cell_type": "code",
      "metadata": {
        "id": "6RTYsC7C-d8b",
        "colab_type": "code",
        "outputId": "781db0d3-8a82-4d3a-ee29-b6a0c1eca0d0",
        "colab": {
          "base_uri": "https://localhost:8080/",
          "height": 34
        }
      },
      "source": [
        "print(my_set)"
      ],
      "execution_count": 0,
      "outputs": [
        {
          "output_type": "stream",
          "text": [
            "{'iphone 5s', False, 4.3, 'single sim', '3G', 10000}\n"
          ],
          "name": "stdout"
        }
      ]
    },
    {
      "cell_type": "code",
      "metadata": {
        "id": "x2g4e3OD-gNE",
        "colab_type": "code",
        "colab": {}
      },
      "source": [
        "my_phone.append(4.3)"
      ],
      "execution_count": 0,
      "outputs": []
    },
    {
      "cell_type": "code",
      "metadata": {
        "id": "zS48L7hE-sLc",
        "colab_type": "code",
        "outputId": "cce5382f-e020-4908-9a90-47e9feb155b2",
        "colab": {
          "base_uri": "https://localhost:8080/",
          "height": 34
        }
      },
      "source": [
        "print(my_phone)"
      ],
      "execution_count": 0,
      "outputs": [
        {
          "output_type": "stream",
          "text": [
            "['iphone 5s', False, 4.3, '3G', 'single sim', 10000, 4.3]\n"
          ],
          "name": "stdout"
        }
      ]
    },
    {
      "cell_type": "code",
      "metadata": {
        "id": "sWQHCTlJ-uER",
        "colab_type": "code",
        "colab": {}
      },
      "source": [
        "my_set = set(my_phone)"
      ],
      "execution_count": 0,
      "outputs": []
    },
    {
      "cell_type": "code",
      "metadata": {
        "id": "e9mgnetX-zmD",
        "colab_type": "code",
        "outputId": "a790229a-dbf4-4603-efed-f4b519bb8cf1",
        "colab": {
          "base_uri": "https://localhost:8080/",
          "height": 34
        }
      },
      "source": [
        "print(my_set)"
      ],
      "execution_count": 0,
      "outputs": [
        {
          "output_type": "stream",
          "text": [
            "{'iphone 5s', False, 4.3, 'single sim', '3G', 10000}\n"
          ],
          "name": "stdout"
        }
      ]
    },
    {
      "cell_type": "markdown",
      "metadata": {
        "id": "rYILFXDPFZbS",
        "colab_type": "text"
      },
      "source": [
        "**Advantage of sets**"
      ]
    },
    {
      "cell_type": "code",
      "metadata": {
        "id": "TvlS78hj-1qE",
        "colab_type": "code",
        "outputId": "17666004-118d-42f0-b9ab-b472757e2c37",
        "colab": {
          "base_uri": "https://localhost:8080/",
          "height": 85
        }
      },
      "source": [
        "my_list = list(range(1000000))\n",
        "tic = time.time()\n",
        "print(234234 in my_list)\n",
        "print(575477 in my_list)\n",
        "print(969876 in my_list)\n",
        "toc = time.time()\n",
        "print(\"Elapsed time in seconds\",toc- tic)"
      ],
      "execution_count": 0,
      "outputs": [
        {
          "output_type": "stream",
          "text": [
            "True\n",
            "True\n",
            "True\n",
            "Elapsed time in seconds 0.01891303062438965\n"
          ],
          "name": "stdout"
        }
      ]
    },
    {
      "cell_type": "code",
      "metadata": {
        "id": "sBLzFf0xFpi1",
        "colab_type": "code",
        "outputId": "efeeacb5-5df1-4ee0-c8db-a60f2a4fa8a4",
        "colab": {
          "base_uri": "https://localhost:8080/",
          "height": 85
        }
      },
      "source": [
        "my_set = set(range(1000000))\n",
        "tic = time.time()\n",
        "print(234234 in my_set)\n",
        "print(575477 in my_set)\n",
        "print(969876 in my_set)\n",
        "toc = time.time()\n",
        "print(\"Elapsed time in seconds\",toc- tic)"
      ],
      "execution_count": 0,
      "outputs": [
        {
          "output_type": "stream",
          "text": [
            "True\n",
            "True\n",
            "True\n",
            "Elapsed time in seconds 0.00046563148498535156\n"
          ],
          "name": "stdout"
        }
      ]
    },
    {
      "cell_type": "markdown",
      "metadata": {
        "id": "Q4d0g5ZGHK3X",
        "colab_type": "text"
      },
      "source": [
        "# Dictionaries {'key' : 'value'}"
      ]
    },
    {
      "cell_type": "code",
      "metadata": {
        "id": "JR7Ev6HcIU0P",
        "colab_type": "code",
        "outputId": "e7ac4fa5-28bc-46da-bbae-3eea41a8ae94",
        "colab": {
          "base_uri": "https://localhost:8080/",
          "height": 34
        }
      },
      "source": [
        "my_phone_dict={'a'} #important\n",
        "type(my_phone_dict)"
      ],
      "execution_count": 0,
      "outputs": [
        {
          "output_type": "execute_result",
          "data": {
            "text/plain": [
              "set"
            ]
          },
          "metadata": {
            "tags": []
          },
          "execution_count": 71
        }
      ]
    },
    {
      "cell_type": "code",
      "metadata": {
        "id": "Rb7mfZqFHIW2",
        "colab_type": "code",
        "outputId": "9cfc1627-8333-4649-92dd-aaef8f3a87c6",
        "colab": {
          "base_uri": "https://localhost:8080/",
          "height": 34
        }
      },
      "source": [
        "my_phone_dict={}\n",
        "type(my_phone_dict)"
      ],
      "execution_count": 0,
      "outputs": [
        {
          "output_type": "execute_result",
          "data": {
            "text/plain": [
              "dict"
            ]
          },
          "metadata": {
            "tags": []
          },
          "execution_count": 72
        }
      ]
    },
    {
      "cell_type": "code",
      "metadata": {
        "id": "37m2Gk8BH0Wh",
        "colab_type": "code",
        "colab": {}
      },
      "source": [
        "my_phone_dict['name'] ='Iphone5s'\n",
        "my_phone_dict['is_android'] = False\n",
        "my_phone_dict['screen_size'] = 4.3"
      ],
      "execution_count": 0,
      "outputs": []
    },
    {
      "cell_type": "code",
      "metadata": {
        "id": "wTbNQMEAIJVB",
        "colab_type": "code",
        "outputId": "16148b98-4bd3-4951-f813-da5084dca211",
        "colab": {
          "base_uri": "https://localhost:8080/",
          "height": 34
        }
      },
      "source": [
        "print(my_phone_dict)"
      ],
      "execution_count": 0,
      "outputs": [
        {
          "output_type": "stream",
          "text": [
            "{'name': 'Iphone5s', 'is_android': False, 'screen_size': 4.3}\n"
          ],
          "name": "stdout"
        }
      ]
    },
    {
      "cell_type": "code",
      "metadata": {
        "id": "2kuUFk5PIhhw",
        "colab_type": "code",
        "outputId": "99d9edb1-da45-4d1a-833b-154e222a02d0",
        "colab": {
          "base_uri": "https://localhost:8080/",
          "height": 34
        }
      },
      "source": [
        "my_phone_dict[\"name\"]"
      ],
      "execution_count": 0,
      "outputs": [
        {
          "output_type": "execute_result",
          "data": {
            "text/plain": [
              "'Iphone5s'"
            ]
          },
          "metadata": {
            "tags": []
          },
          "execution_count": 75
        }
      ]
    },
    {
      "cell_type": "code",
      "metadata": {
        "id": "kIqsRSz7Ik4H",
        "colab_type": "code",
        "outputId": "14df7e0b-ea9d-4f36-d033-1d19c8a57b08",
        "colab": {
          "base_uri": "https://localhost:8080/",
          "height": 34
        }
      },
      "source": [
        "print(my_phone_dict.keys())"
      ],
      "execution_count": 0,
      "outputs": [
        {
          "output_type": "stream",
          "text": [
            "dict_keys(['name', 'is_android', 'screen_size'])\n"
          ],
          "name": "stdout"
        }
      ]
    },
    {
      "cell_type": "code",
      "metadata": {
        "id": "C6t6KI7_Isy_",
        "colab_type": "code",
        "outputId": "b5c78b89-c109-416d-e4f0-b774622a5bf4",
        "colab": {
          "base_uri": "https://localhost:8080/",
          "height": 34
        }
      },
      "source": [
        "print(my_phone_dict.values())"
      ],
      "execution_count": 0,
      "outputs": [
        {
          "output_type": "stream",
          "text": [
            "dict_values(['Iphone5s', False, 4.3])\n"
          ],
          "name": "stdout"
        }
      ]
    },
    {
      "cell_type": "code",
      "metadata": {
        "id": "1jKs-0QDIwHR",
        "colab_type": "code",
        "outputId": "f759202f-b933-43e2-c201-bbc278a8c1d7",
        "colab": {
          "base_uri": "https://localhost:8080/",
          "height": 34
        }
      },
      "source": [
        "print(my_phone_dict.items())"
      ],
      "execution_count": 0,
      "outputs": [
        {
          "output_type": "stream",
          "text": [
            "dict_items([('name', 'Iphone5s'), ('is_android', False), ('screen_size', 4.3)])\n"
          ],
          "name": "stdout"
        }
      ]
    },
    {
      "cell_type": "code",
      "metadata": {
        "id": "EPYZE8bmI0cs",
        "colab_type": "code",
        "outputId": "cbd159a7-ffda-4874-f270-61150bfce0fb",
        "colab": {
          "base_uri": "https://localhost:8080/",
          "height": 68
        }
      },
      "source": [
        "for data in my_phone_dict.keys():\n",
        "  print(data)"
      ],
      "execution_count": 0,
      "outputs": [
        {
          "output_type": "stream",
          "text": [
            "name\n",
            "is_android\n",
            "screen_size\n"
          ],
          "name": "stdout"
        }
      ]
    },
    {
      "cell_type": "code",
      "metadata": {
        "id": "xODzIejTI53W",
        "colab_type": "code",
        "outputId": "1a46e6a1-13db-4de5-ad56-fefbf517395f",
        "colab": {
          "base_uri": "https://localhost:8080/",
          "height": 68
        }
      },
      "source": [
        "for data in my_phone_dict.keys():\n",
        "  print(data,':',my_phone_dict[data])\n"
      ],
      "execution_count": 0,
      "outputs": [
        {
          "output_type": "stream",
          "text": [
            "name : Iphone5s\n",
            "is_android : False\n",
            "screen_size : 4.3\n"
          ],
          "name": "stdout"
        }
      ]
    },
    {
      "cell_type": "markdown",
      "metadata": {
        "id": "ZKK62VNDKGwR",
        "colab_type": "text"
      },
      "source": [
        "# Python Packages"
      ]
    },
    {
      "cell_type": "code",
      "metadata": {
        "id": "UlBCBioIKWR2",
        "colab_type": "code",
        "colab": {}
      },
      "source": [
        "import math"
      ],
      "execution_count": 0,
      "outputs": []
    },
    {
      "cell_type": "code",
      "metadata": {
        "id": "jEMXzdGDKgdV",
        "colab_type": "code",
        "outputId": "8cb73051-350d-4504-ab3d-cc034a153d82",
        "colab": {
          "base_uri": "https://localhost:8080/",
          "height": 34
        }
      },
      "source": [
        "a = math.sqrt(100)\n",
        "print(a)"
      ],
      "execution_count": 0,
      "outputs": [
        {
          "output_type": "stream",
          "text": [
            "10.0\n"
          ],
          "name": "stdout"
        }
      ]
    },
    {
      "cell_type": "code",
      "metadata": {
        "id": "fXIFo-IiKkjU",
        "colab_type": "code",
        "outputId": "a7baf100-6f55-4de3-988c-e8f66bedb244",
        "colab": {
          "base_uri": "https://localhost:8080/",
          "height": 34
        }
      },
      "source": [
        "a = math.pow(100 , 0.5)\n",
        "print(a)"
      ],
      "execution_count": 0,
      "outputs": [
        {
          "output_type": "stream",
          "text": [
            "10.0\n"
          ],
          "name": "stdout"
        }
      ]
    },
    {
      "cell_type": "code",
      "metadata": {
        "id": "gWKzHqzsMNNz",
        "colab_type": "code",
        "outputId": "b582d2fc-ab19-49a4-f51a-329f69a8be75",
        "colab": {
          "base_uri": "https://localhost:8080/",
          "height": 54
        }
      },
      "source": [
        "x = 100\n",
        "y =1\n",
        "for i in range(1,x):\n",
        "  y *= i\n",
        "print('Factorial of 100 is ',y)"
      ],
      "execution_count": 0,
      "outputs": [
        {
          "output_type": "stream",
          "text": [
            "Factorial of 100 is  933262154439441526816992388562667004907159682643816214685929638952175999932299156089414639761565182862536979208272237582511852109168640000000000000000000000\n"
          ],
          "name": "stdout"
        }
      ]
    },
    {
      "cell_type": "code",
      "metadata": {
        "id": "Tl9qm8fWMtRU",
        "colab_type": "code",
        "outputId": "ecccd9b1-2200-4732-f222-93a182b84dfd",
        "colab": {
          "base_uri": "https://localhost:8080/",
          "height": 54
        }
      },
      "source": [
        "y = math.factorial(x)\n",
        "print(y)"
      ],
      "execution_count": 0,
      "outputs": [
        {
          "output_type": "stream",
          "text": [
            "93326215443944152681699238856266700490715968264381621468592963895217599993229915608941463976156518286253697920827223758251185210916864000000000000000000000000\n"
          ],
          "name": "stdout"
        }
      ]
    },
    {
      "cell_type": "code",
      "metadata": {
        "id": "yxQApdKbNGcp",
        "colab_type": "code",
        "outputId": "27e98b6e-5728-46f8-a030-c03afc284987",
        "colab": {
          "base_uri": "https://localhost:8080/",
          "height": 54
        }
      },
      "source": [
        "import math as m\n",
        "y = m.factorial(x)\n",
        "print(y)"
      ],
      "execution_count": 0,
      "outputs": [
        {
          "output_type": "stream",
          "text": [
            "93326215443944152681699238856266700490715968264381621468592963895217599993229915608941463976156518286253697920827223758251185210916864000000000000000000000000\n"
          ],
          "name": "stdout"
        }
      ]
    },
    {
      "cell_type": "code",
      "metadata": {
        "id": "Ymtz8LlWNT8j",
        "colab_type": "code",
        "outputId": "4b9042ba-120e-4753-f971-02a91933e90c",
        "colab": {
          "base_uri": "https://localhost:8080/",
          "height": 54
        }
      },
      "source": [
        "from math import factorial\n",
        "y = factorial(x)\n",
        "y"
      ],
      "execution_count": 0,
      "outputs": [
        {
          "output_type": "execute_result",
          "data": {
            "text/plain": [
              "93326215443944152681699238856266700490715968264381621468592963895217599993229915608941463976156518286253697920827223758251185210916864000000000000000000000000"
            ]
          },
          "metadata": {
            "tags": []
          },
          "execution_count": 87
        }
      ]
    },
    {
      "cell_type": "code",
      "metadata": {
        "id": "dfpjvcn1Negw",
        "colab_type": "code",
        "outputId": "b6b08145-925b-4067-b5b4-42d42ae9a0b8",
        "colab": {
          "base_uri": "https://localhost:8080/",
          "height": 51
        }
      },
      "source": [
        "val = list(range(100))\n",
        "tic = time.time()\n",
        "for x in val:\n",
        "  y =1\n",
        "  for i in range(1,x):\n",
        "    y *= i\n",
        "toc = time.time()\n",
        "print('Elapsed time with own function:', toc-tic)\n",
        "\n",
        "val = list(range(100))\n",
        "tic = time.time()\n",
        "for x in val:\n",
        "  y = math.factorial(x)\n",
        "toc = time.time()\n",
        "print('Elapsed time with own function:', toc-tic)\n",
        "\n"
      ],
      "execution_count": 0,
      "outputs": [
        {
          "output_type": "stream",
          "text": [
            "Elapsed time with own function: 0.0016214847564697266\n",
            "Elapsed time with own function: 0.00016069412231445312\n"
          ],
          "name": "stdout"
        }
      ]
    },
    {
      "cell_type": "markdown",
      "metadata": {
        "id": "uSLBgu0EPJsV",
        "colab_type": "text"
      },
      "source": [
        "**Creating own library**"
      ]
    },
    {
      "cell_type": "code",
      "metadata": {
        "id": "b2DG2p0LObI7",
        "colab_type": "code",
        "colab": {}
      },
      "source": [
        "!echo 'def hello():' > my_first_module.py\n",
        "!echo '   print(\"hello,i live in a different file\")' >> my_first_module.py"
      ],
      "execution_count": 0,
      "outputs": []
    },
    {
      "cell_type": "code",
      "metadata": {
        "id": "zmAQ5vpWPRaF",
        "colab_type": "code",
        "outputId": "beab2689-4da8-4f5c-f203-f5df161e29fe",
        "colab": {
          "base_uri": "https://localhost:8080/",
          "height": 51
        }
      },
      "source": [
        "cat my_first_module.py"
      ],
      "execution_count": 0,
      "outputs": [
        {
          "output_type": "stream",
          "text": [
            "def hello():\n",
            "   print(\"hello,i live in a different file\")\n"
          ],
          "name": "stdout"
        }
      ]
    },
    {
      "cell_type": "code",
      "metadata": {
        "id": "noH94AlBPiJi",
        "colab_type": "code",
        "outputId": "0d309871-9eaa-4262-8cd0-1a5b80133dc8",
        "colab": {
          "base_uri": "https://localhost:8080/",
          "height": 34
        }
      },
      "source": [
        "import my_first_module\n",
        "my_first_module.hello()"
      ],
      "execution_count": 0,
      "outputs": [
        {
          "output_type": "stream",
          "text": [
            "hello,i live in a different file\n"
          ],
          "name": "stdout"
        }
      ]
    },
    {
      "cell_type": "code",
      "metadata": {
        "id": "km29BrjnQXWT",
        "colab_type": "code",
        "outputId": "973b2ea1-6d1d-497a-f07f-d20934a674da",
        "colab": {
          "base_uri": "https://localhost:8080/",
          "height": 34
        }
      },
      "source": [
        "from my_first_module import hello\n",
        "hello()"
      ],
      "execution_count": 0,
      "outputs": [
        {
          "output_type": "stream",
          "text": [
            "hello,i live in a different file\n"
          ],
          "name": "stdout"
        }
      ]
    },
    {
      "cell_type": "markdown",
      "metadata": {
        "id": "51y3VDV_SDDc",
        "colab_type": "text"
      },
      "source": [
        "# File handling"
      ]
    },
    {
      "cell_type": "code",
      "metadata": {
        "id": "S1BipnjZQtjb",
        "colab_type": "code",
        "outputId": "2782bfb2-be0f-4f68-836c-4e34d9554f41",
        "colab": {
          "base_uri": "https://localhost:8080/",
          "height": 204
        }
      },
      "source": [
        "!wget https://storage.googleapis.com/laurencemoroney-blog.appspot.com/sonnets.txt"
      ],
      "execution_count": 0,
      "outputs": [
        {
          "output_type": "stream",
          "text": [
            "--2020-03-29 16:32:26--  https://storage.googleapis.com/laurencemoroney-blog.appspot.com/sonnets.txt\n",
            "Resolving storage.googleapis.com (storage.googleapis.com)... 172.217.218.128, 2a00:1450:4013:c07::80\n",
            "Connecting to storage.googleapis.com (storage.googleapis.com)|172.217.218.128|:443... connected.\n",
            "HTTP request sent, awaiting response... 200 OK\n",
            "Length: 93578 (91K) [text/plain]\n",
            "Saving to: ‘sonnets.txt’\n",
            "\n",
            "\rsonnets.txt           0%[                    ]       0  --.-KB/s               \rsonnets.txt         100%[===================>]  91.38K  --.-KB/s    in 0.001s  \n",
            "\n",
            "2020-03-29 16:32:26 (106 MB/s) - ‘sonnets.txt’ saved [93578/93578]\n",
            "\n"
          ],
          "name": "stdout"
        }
      ]
    },
    {
      "cell_type": "code",
      "metadata": {
        "id": "tzzVTZ41_sCJ",
        "colab_type": "code",
        "outputId": "5b424153-5a1f-4115-b5fe-bbff8142b284",
        "colab": {
          "base_uri": "https://localhost:8080/",
          "height": 34
        }
      },
      "source": [
        "!ls\n"
      ],
      "execution_count": 0,
      "outputs": [
        {
          "output_type": "stream",
          "text": [
            "my_first_module.py  __pycache__  sample_data  sonnets.txt\n"
          ],
          "name": "stdout"
        }
      ]
    },
    {
      "cell_type": "code",
      "metadata": {
        "id": "zfGEZ2NAA2vw",
        "colab_type": "code",
        "colab": {}
      },
      "source": [
        "file = open('sonnets.txt','r') #opening the file in read mode"
      ],
      "execution_count": 0,
      "outputs": []
    },
    {
      "cell_type": "code",
      "metadata": {
        "id": "VgP4mTgyBBMd",
        "colab_type": "code",
        "colab": {}
      },
      "source": [
        "s = file.readline()"
      ],
      "execution_count": 0,
      "outputs": []
    },
    {
      "cell_type": "code",
      "metadata": {
        "id": "wS8jhHyxBS-X",
        "colab_type": "code",
        "outputId": "497be29f-efe2-4759-f0d9-cb21dedf4348",
        "colab": {
          "base_uri": "https://localhost:8080/",
          "height": 51
        }
      },
      "source": [
        "print(s)"
      ],
      "execution_count": 0,
      "outputs": [
        {
          "output_type": "stream",
          "text": [
            "FROM fairest creatures we desire increase,\n",
            "\n"
          ],
          "name": "stdout"
        }
      ]
    },
    {
      "cell_type": "code",
      "metadata": {
        "id": "RzOD_RquBZVz",
        "colab_type": "code",
        "outputId": "392e5671-2d8f-4d42-c0a2-1acac33d3e0c",
        "colab": {
          "base_uri": "https://localhost:8080/",
          "height": 34
        }
      },
      "source": [
        "print(s.split(' ')) # return the list in list form"
      ],
      "execution_count": 0,
      "outputs": [
        {
          "output_type": "stream",
          "text": [
            "['FROM', 'fairest', 'creatures', 'we', 'desire', 'increase,\\n']\n"
          ],
          "name": "stdout"
        }
      ]
    },
    {
      "cell_type": "code",
      "metadata": {
        "id": "qugk1CKuBq_Q",
        "colab_type": "code",
        "colab": {}
      },
      "source": [
        "file.close()"
      ],
      "execution_count": 0,
      "outputs": []
    },
    {
      "cell_type": "code",
      "metadata": {
        "id": "9yFOZirFCAfm",
        "colab_type": "code",
        "colab": {}
      },
      "source": [
        "# file.read() # I am not able to read because to closed it already"
      ],
      "execution_count": 0,
      "outputs": []
    },
    {
      "cell_type": "code",
      "metadata": {
        "id": "y9ZUbfofCB-p",
        "colab_type": "code",
        "outputId": "12bb6fbe-4fb3-47f1-f322-4261c8e246b0",
        "colab": {
          "base_uri": "https://localhost:8080/",
          "height": 51
        }
      },
      "source": [
        "with open('sonnets.txt','r') as file:\n",
        "  print(file.readline())"
      ],
      "execution_count": 0,
      "outputs": [
        {
          "output_type": "stream",
          "text": [
            "FROM fairest creatures we desire increase,\n",
            "\n"
          ],
          "name": "stdout"
        }
      ]
    },
    {
      "cell_type": "code",
      "metadata": {
        "id": "CQEsPOtLCmeN",
        "colab_type": "code",
        "colab": {}
      },
      "source": [
        "with open('sonnets.txt','r') as file:\n",
        "  print(file.read())"
      ],
      "execution_count": 0,
      "outputs": []
    },
    {
      "cell_type": "code",
      "metadata": {
        "id": "aqHgE0jMDB8a",
        "colab_type": "code",
        "colab": {}
      },
      "source": [
        "with open('sonnets.txt','r') as file:\n",
        "  for line in file:\n",
        "    for word in line.split(' '):\n",
        "      print(word)\n",
        "    print('--')  \n",
        "      "
      ],
      "execution_count": 0,
      "outputs": []
    },
    {
      "cell_type": "code",
      "metadata": {
        "id": "wnAi_acvDq49",
        "colab_type": "code",
        "colab": {}
      },
      "source": [
        "with open('my_first_file_output','w') as file:\n",
        "  file.write(\"hello world from python\")"
      ],
      "execution_count": 0,
      "outputs": []
    },
    {
      "cell_type": "code",
      "metadata": {
        "id": "ybHegeFvEnxV",
        "colab_type": "code",
        "outputId": "bd8daf6a-fd77-423d-8670-1e58015d5e0d",
        "colab": {
          "base_uri": "https://localhost:8080/",
          "height": 34
        }
      },
      "source": [
        "!cat my_first_file_output"
      ],
      "execution_count": 0,
      "outputs": [
        {
          "output_type": "stream",
          "text": [
            "hello world from python"
          ],
          "name": "stdout"
        }
      ]
    },
    {
      "cell_type": "markdown",
      "metadata": {
        "id": "D6_qufuC34qc",
        "colab_type": "text"
      },
      "source": [
        "# Pthon classes"
      ]
    },
    {
      "cell_type": "code",
      "metadata": {
        "id": "DAj7Sgom3-Lw",
        "colab_type": "code",
        "colab": {}
      },
      "source": [
        "class MobilePhone:\n",
        "  '''This is a sample class to illustrate how pyhton classes works'''\n",
        "  def __init__(self, name, is_android=False, screen_size=4.3): # when we call init then i actually pass instance value(new_phone) to self \n",
        "    self.name = name\n",
        "    self.is_android = is_android\n",
        "    self.screen_size = screen_size\n",
        "    self.rating = -1\n",
        "\n",
        "  def has_rating(self):\n",
        "    return self.rating > -1  "
      ],
      "execution_count": 0,
      "outputs": []
    },
    {
      "cell_type": "code",
      "metadata": {
        "id": "oHaXIDG14D1E",
        "colab_type": "code",
        "colab": {}
      },
      "source": [
        "new_phone = MobilePhone('Iphone 5s')"
      ],
      "execution_count": 0,
      "outputs": []
    },
    {
      "cell_type": "code",
      "metadata": {
        "id": "BE2MvBNT4SoD",
        "colab_type": "code",
        "outputId": "7f43c969-a210-4aa7-c28c-67437d64f0e6",
        "colab": {
          "base_uri": "https://localhost:8080/",
          "height": 34
        }
      },
      "source": [
        "type(new_phone)"
      ],
      "execution_count": 0,
      "outputs": [
        {
          "output_type": "execute_result",
          "data": {
            "text/plain": [
              "__main__.MobilePhone"
            ]
          },
          "metadata": {
            "tags": []
          },
          "execution_count": 41
        }
      ]
    },
    {
      "cell_type": "code",
      "metadata": {
        "id": "m9UVI33P4U5M",
        "colab_type": "code",
        "outputId": "92e6b631-4c00-4a5b-ca45-699fd722d822",
        "colab": {
          "base_uri": "https://localhost:8080/",
          "height": 34
        }
      },
      "source": [
        "print(new_phone.name, new_phone.is_android, new_phone.screen_size)"
      ],
      "execution_count": 0,
      "outputs": [
        {
          "output_type": "stream",
          "text": [
            "Iphone 5s False 4.3\n"
          ],
          "name": "stdout"
        }
      ]
    },
    {
      "cell_type": "code",
      "metadata": {
        "id": "kyHzq9105tZn",
        "colab_type": "code",
        "colab": {}
      },
      "source": [
        "new_phone.screen_size = 4"
      ],
      "execution_count": 0,
      "outputs": []
    },
    {
      "cell_type": "code",
      "metadata": {
        "id": "tmWAXx3V55bg",
        "colab_type": "code",
        "outputId": "4cdc8371-fa20-4370-cb45-144501fb97c2",
        "colab": {
          "base_uri": "https://localhost:8080/",
          "height": 34
        }
      },
      "source": [
        "new_phone.has_rating()"
      ],
      "execution_count": 0,
      "outputs": [
        {
          "output_type": "execute_result",
          "data": {
            "text/plain": [
              "False"
            ]
          },
          "metadata": {
            "tags": []
          },
          "execution_count": 45
        }
      ]
    },
    {
      "cell_type": "code",
      "metadata": {
        "id": "X674cY4g6NP3",
        "colab_type": "code",
        "colab": {}
      },
      "source": [
        "new_phone.rating = 3.9"
      ],
      "execution_count": 0,
      "outputs": []
    },
    {
      "cell_type": "code",
      "metadata": {
        "id": "87KhiNg364qM",
        "colab_type": "code",
        "outputId": "9d645ac7-c12e-48ed-df1d-3bc677f8657b",
        "colab": {
          "base_uri": "https://localhost:8080/",
          "height": 34
        }
      },
      "source": [
        "MobilePhone.__doc__"
      ],
      "execution_count": 0,
      "outputs": [
        {
          "output_type": "execute_result",
          "data": {
            "text/plain": [
              "'This is a sample class to illustrate how pyhton classes works'"
            ]
          },
          "metadata": {
            "tags": []
          },
          "execution_count": 47
        }
      ]
    },
    {
      "cell_type": "code",
      "metadata": {
        "id": "HPKsNSle7NAe",
        "colab_type": "code",
        "colab": {}
      },
      "source": [
        "class Iphone(MobilePhone):\n",
        "  def __init__(self, name):\n",
        "    MobilePhone.__init__(self , name, False, 4)\n",
        "\n",
        "  def __str__(self):\n",
        "    return self.name+\" \"+str(self.is_android)+\" \"+str(self.screen_size)  "
      ],
      "execution_count": 0,
      "outputs": []
    },
    {
      "cell_type": "code",
      "metadata": {
        "id": "0Noskn5L7cfi",
        "colab_type": "code",
        "colab": {}
      },
      "source": [
        "new_iphone = Iphone('iphone5s')"
      ],
      "execution_count": 0,
      "outputs": []
    },
    {
      "cell_type": "code",
      "metadata": {
        "id": "6lrIauzd7jgq",
        "colab_type": "code",
        "outputId": "e0d4f2bb-4337-486f-ea2e-a066ed03298f",
        "colab": {
          "base_uri": "https://localhost:8080/",
          "height": 34
        }
      },
      "source": [
        "new_iphone.is_android"
      ],
      "execution_count": 0,
      "outputs": [
        {
          "output_type": "execute_result",
          "data": {
            "text/plain": [
              "False"
            ]
          },
          "metadata": {
            "tags": []
          },
          "execution_count": 50
        }
      ]
    },
    {
      "cell_type": "code",
      "metadata": {
        "id": "nUAWs-CS7s4B",
        "colab_type": "code",
        "outputId": "f37755c5-da83-46d2-c5e5-f71794318248",
        "colab": {
          "base_uri": "https://localhost:8080/",
          "height": 34
        }
      },
      "source": [
        "print(new_iphone)"
      ],
      "execution_count": 0,
      "outputs": [
        {
          "output_type": "stream",
          "text": [
            "iphone5s False 4\n"
          ],
          "name": "stdout"
        }
      ]
    },
    {
      "cell_type": "code",
      "metadata": {
        "id": "eqWZT76c8LdG",
        "colab_type": "code",
        "colab": {}
      },
      "source": [
        ""
      ],
      "execution_count": 0,
      "outputs": []
    },
    {
      "cell_type": "markdown",
      "metadata": {
        "id": "EgVYTFCh87kB",
        "colab_type": "text"
      },
      "source": [
        "# Numpy"
      ]
    },
    {
      "cell_type": "code",
      "metadata": {
        "id": "Jb4Ue_-98_lm",
        "colab_type": "code",
        "colab": {}
      },
      "source": [
        "import numpy as np\n"
      ],
      "execution_count": 0,
      "outputs": []
    },
    {
      "cell_type": "code",
      "metadata": {
        "id": "VSZ1NJ6r9CmM",
        "colab_type": "code",
        "outputId": "524c7487-2862-4761-9861-1e6d4684f47f",
        "colab": {
          "base_uri": "https://localhost:8080/",
          "height": 34
        }
      },
      "source": [
        "x = np.array([1,2,3])\n",
        "print(x)"
      ],
      "execution_count": 0,
      "outputs": [
        {
          "output_type": "stream",
          "text": [
            "[1 2 3]\n"
          ],
          "name": "stdout"
        }
      ]
    },
    {
      "cell_type": "code",
      "metadata": {
        "id": "N4fJC6m99JLJ",
        "colab_type": "code",
        "outputId": "e6671b79-5442-4530-89f0-11f9552c648c",
        "colab": {
          "base_uri": "https://localhost:8080/",
          "height": 34
        }
      },
      "source": [
        "type(x)"
      ],
      "execution_count": 0,
      "outputs": [
        {
          "output_type": "execute_result",
          "data": {
            "text/plain": [
              "numpy.ndarray"
            ]
          },
          "metadata": {
            "tags": []
          },
          "execution_count": 54
        }
      ]
    },
    {
      "cell_type": "code",
      "metadata": {
        "id": "qkVlWICH9K6N",
        "colab_type": "code",
        "outputId": "6d94616e-7df6-4e47-c73b-8855af6c4ef8",
        "colab": {
          "base_uri": "https://localhost:8080/",
          "height": 34
        }
      },
      "source": [
        "a = [1,2,3,34]\n",
        "x = np.array(a)\n",
        "type(x)"
      ],
      "execution_count": 0,
      "outputs": [
        {
          "output_type": "execute_result",
          "data": {
            "text/plain": [
              "numpy.ndarray"
            ]
          },
          "metadata": {
            "tags": []
          },
          "execution_count": 55
        }
      ]
    },
    {
      "cell_type": "code",
      "metadata": {
        "id": "xF2jJzHe9VE2",
        "colab_type": "code",
        "outputId": "50732406-3e18-4d92-88f0-d8993cf61710",
        "colab": {
          "base_uri": "https://localhost:8080/",
          "height": 34
        }
      },
      "source": [
        "print(x)"
      ],
      "execution_count": 0,
      "outputs": [
        {
          "output_type": "stream",
          "text": [
            "[ 1  2  3 34]\n"
          ],
          "name": "stdout"
        }
      ]
    },
    {
      "cell_type": "code",
      "metadata": {
        "id": "28ZYtTbD9e8V",
        "colab_type": "code",
        "outputId": "2ce76ca7-51ce-4e3b-874f-d685187ad310",
        "colab": {
          "base_uri": "https://localhost:8080/",
          "height": 34
        }
      },
      "source": [
        "x = np.array(a ,float)\n",
        "print(x)"
      ],
      "execution_count": 0,
      "outputs": [
        {
          "output_type": "stream",
          "text": [
            "[ 1.  2.  3. 34.]\n"
          ],
          "name": "stdout"
        }
      ]
    },
    {
      "cell_type": "code",
      "metadata": {
        "id": "yzomiTDH9l1t",
        "colab_type": "code",
        "outputId": "7e0279d7-3231-4c02-8136-627dfd97ae7b",
        "colab": {
          "base_uri": "https://localhost:8080/",
          "height": 34
        }
      },
      "source": [
        "x.shape"
      ],
      "execution_count": 0,
      "outputs": [
        {
          "output_type": "execute_result",
          "data": {
            "text/plain": [
              "(4,)"
            ]
          },
          "metadata": {
            "tags": []
          },
          "execution_count": 59
        }
      ]
    },
    {
      "cell_type": "code",
      "metadata": {
        "id": "hnyCraJk9pRp",
        "colab_type": "code",
        "colab": {}
      },
      "source": [
        "#np.array?"
      ],
      "execution_count": 0,
      "outputs": []
    },
    {
      "cell_type": "markdown",
      "metadata": {
        "id": "XMuBpxGb920o",
        "colab_type": "text"
      },
      "source": [
        "2d array using numpy"
      ]
    },
    {
      "cell_type": "code",
      "metadata": {
        "id": "TYAVO1NI9wCz",
        "colab_type": "code",
        "colab": {}
      },
      "source": [
        "x = np.array([[1,2,3,4,],[5,6,7,8]])"
      ],
      "execution_count": 0,
      "outputs": []
    },
    {
      "cell_type": "code",
      "metadata": {
        "id": "2lrU2eWj-CsN",
        "colab_type": "code",
        "outputId": "27366079-dfad-4e65-c8d2-3e4adf84b47e",
        "colab": {
          "base_uri": "https://localhost:8080/",
          "height": 51
        }
      },
      "source": [
        "print(x)"
      ],
      "execution_count": 0,
      "outputs": [
        {
          "output_type": "stream",
          "text": [
            "[[1 2 3 4]\n",
            " [5 6 7 8]]\n"
          ],
          "name": "stdout"
        }
      ]
    },
    {
      "cell_type": "code",
      "metadata": {
        "id": "l2j3qJX3-Djq",
        "colab_type": "code",
        "outputId": "1126f2aa-61dc-470b-98a5-550e3e60bdd9",
        "colab": {
          "base_uri": "https://localhost:8080/",
          "height": 34
        }
      },
      "source": [
        "x.shape #RC"
      ],
      "execution_count": 0,
      "outputs": [
        {
          "output_type": "execute_result",
          "data": {
            "text/plain": [
              "(2, 4)"
            ]
          },
          "metadata": {
            "tags": []
          },
          "execution_count": 64
        }
      ]
    },
    {
      "cell_type": "code",
      "metadata": {
        "id": "SzYItqZD-H-d",
        "colab_type": "code",
        "outputId": "31e4eb36-a294-463a-aeda-2307c0af6bce",
        "colab": {
          "base_uri": "https://localhost:8080/",
          "height": 34
        }
      },
      "source": [
        "x[0,1]"
      ],
      "execution_count": 0,
      "outputs": [
        {
          "output_type": "execute_result",
          "data": {
            "text/plain": [
              "2"
            ]
          },
          "metadata": {
            "tags": []
          },
          "execution_count": 65
        }
      ]
    },
    {
      "cell_type": "code",
      "metadata": {
        "id": "c2MGXF0l-cPC",
        "colab_type": "code",
        "outputId": "d1ab7f2c-caae-4da9-8ac6-8503ac2b52c3",
        "colab": {
          "base_uri": "https://localhost:8080/",
          "height": 34
        }
      },
      "source": [
        "x[0,0:2]"
      ],
      "execution_count": 0,
      "outputs": [
        {
          "output_type": "execute_result",
          "data": {
            "text/plain": [
              "array([1, 2])"
            ]
          },
          "metadata": {
            "tags": []
          },
          "execution_count": 66
        }
      ]
    },
    {
      "cell_type": "code",
      "metadata": {
        "id": "YqMD8rwP-p92",
        "colab_type": "code",
        "outputId": "d635996d-6007-4194-ab88-c5e77d203c4b",
        "colab": {
          "base_uri": "https://localhost:8080/",
          "height": 34
        }
      },
      "source": [
        "x[1,:]"
      ],
      "execution_count": 0,
      "outputs": [
        {
          "output_type": "execute_result",
          "data": {
            "text/plain": [
              "array([5, 6, 7, 8])"
            ]
          },
          "metadata": {
            "tags": []
          },
          "execution_count": 67
        }
      ]
    },
    {
      "cell_type": "code",
      "metadata": {
        "id": "tet2wGLd-sHp",
        "colab_type": "code",
        "colab": {}
      },
      "source": [
        "x = np.zeros((4,4))"
      ],
      "execution_count": 0,
      "outputs": []
    },
    {
      "cell_type": "code",
      "metadata": {
        "id": "N7RoQOZV-yT9",
        "colab_type": "code",
        "outputId": "55cfc79b-bc66-4798-e5b9-7dc14d093998",
        "colab": {
          "base_uri": "https://localhost:8080/",
          "height": 85
        }
      },
      "source": [
        "print(x)"
      ],
      "execution_count": 0,
      "outputs": [
        {
          "output_type": "stream",
          "text": [
            "[[0. 0. 0. 0.]\n",
            " [0. 0. 0. 0.]\n",
            " [0. 0. 0. 0.]\n",
            " [0. 0. 0. 0.]]\n"
          ],
          "name": "stdout"
        }
      ]
    },
    {
      "cell_type": "code",
      "metadata": {
        "id": "foJAqp_e-zTQ",
        "colab_type": "code",
        "colab": {}
      },
      "source": [
        "x = np.eye(4,4) #identity matrix"
      ],
      "execution_count": 0,
      "outputs": []
    },
    {
      "cell_type": "code",
      "metadata": {
        "id": "4SvZCm06-4d5",
        "colab_type": "code",
        "outputId": "062d5b19-8efd-42a7-c98d-a7e7389b1af6",
        "colab": {
          "base_uri": "https://localhost:8080/",
          "height": 85
        }
      },
      "source": [
        "print(x)"
      ],
      "execution_count": 0,
      "outputs": [
        {
          "output_type": "stream",
          "text": [
            "[[1. 0. 0. 0. 0.]\n",
            " [0. 1. 0. 0. 0.]\n",
            " [0. 0. 1. 0. 0.]\n",
            " [0. 0. 0. 1. 0.]]\n"
          ],
          "name": "stdout"
        }
      ]
    },
    {
      "cell_type": "code",
      "metadata": {
        "id": "JpZWFFWx-5vv",
        "colab_type": "code",
        "colab": {}
      },
      "source": [
        "x = np.random.random((4,5))"
      ],
      "execution_count": 0,
      "outputs": []
    },
    {
      "cell_type": "code",
      "metadata": {
        "id": "F4hyqYrK_DPQ",
        "colab_type": "code",
        "outputId": "284d758d-4bdd-4a8b-abde-6294745ec509",
        "colab": {
          "base_uri": "https://localhost:8080/",
          "height": 85
        }
      },
      "source": [
        "print(x)"
      ],
      "execution_count": 0,
      "outputs": [
        {
          "output_type": "stream",
          "text": [
            "[[0.33984003 0.80670149 0.33901083 0.32611678 0.89277624]\n",
            " [0.4508943  0.78146272 0.40882332 0.84272545 0.10813947]\n",
            " [0.21664799 0.79855798 0.82119543 0.75107479 0.52272297]\n",
            " [0.16619233 0.84008246 0.48707427 0.61300035 0.9839817 ]]\n"
          ],
          "name": "stdout"
        }
      ]
    },
    {
      "cell_type": "code",
      "metadata": {
        "id": "7kkyu1SR_ECt",
        "colab_type": "code",
        "colab": {}
      },
      "source": [
        "Z= x.T"
      ],
      "execution_count": 0,
      "outputs": []
    },
    {
      "cell_type": "code",
      "metadata": {
        "id": "jRI6f3c9_H6i",
        "colab_type": "code",
        "outputId": "5eacc5c3-eed4-403b-d01c-0cd87793f720",
        "colab": {
          "base_uri": "https://localhost:8080/",
          "height": 102
        }
      },
      "source": [
        "print(Z)"
      ],
      "execution_count": 0,
      "outputs": [
        {
          "output_type": "stream",
          "text": [
            "[[0.33984003 0.4508943  0.21664799 0.16619233]\n",
            " [0.80670149 0.78146272 0.79855798 0.84008246]\n",
            " [0.33901083 0.40882332 0.82119543 0.48707427]\n",
            " [0.32611678 0.84272545 0.75107479 0.61300035]\n",
            " [0.89277624 0.10813947 0.52272297 0.9839817 ]]\n"
          ],
          "name": "stdout"
        }
      ]
    },
    {
      "cell_type": "code",
      "metadata": {
        "id": "mAIVZr7Z_JkC",
        "colab_type": "code",
        "colab": {}
      },
      "source": [
        "Y = x.reshape(20,1)"
      ],
      "execution_count": 0,
      "outputs": []
    },
    {
      "cell_type": "code",
      "metadata": {
        "id": "sDftwVuq_Sy4",
        "colab_type": "code",
        "outputId": "9d259b26-c877-4399-ddab-93867456b54d",
        "colab": {
          "base_uri": "https://localhost:8080/",
          "height": 357
        }
      },
      "source": [
        "print(Y)"
      ],
      "execution_count": 0,
      "outputs": [
        {
          "output_type": "stream",
          "text": [
            "[[0.33984003]\n",
            " [0.80670149]\n",
            " [0.33901083]\n",
            " [0.32611678]\n",
            " [0.89277624]\n",
            " [0.4508943 ]\n",
            " [0.78146272]\n",
            " [0.40882332]\n",
            " [0.84272545]\n",
            " [0.10813947]\n",
            " [0.21664799]\n",
            " [0.79855798]\n",
            " [0.82119543]\n",
            " [0.75107479]\n",
            " [0.52272297]\n",
            " [0.16619233]\n",
            " [0.84008246]\n",
            " [0.48707427]\n",
            " [0.61300035]\n",
            " [0.9839817 ]]\n"
          ],
          "name": "stdout"
        }
      ]
    },
    {
      "cell_type": "code",
      "metadata": {
        "id": "2AElDJi2_UuJ",
        "colab_type": "code",
        "outputId": "70aadc42-939b-4bf2-a6c0-bcf64107ba0f",
        "colab": {
          "base_uri": "https://localhost:8080/",
          "height": 34
        }
      },
      "source": [
        "A = np.arange(5)\n",
        "print(A)"
      ],
      "execution_count": 0,
      "outputs": [
        {
          "output_type": "stream",
          "text": [
            "[0 1 2 3 4]\n"
          ],
          "name": "stdout"
        }
      ]
    },
    {
      "cell_type": "code",
      "metadata": {
        "id": "-IyWrf5M_kEU",
        "colab_type": "code",
        "colab": {}
      },
      "source": [
        "B = np.arange(5)"
      ],
      "execution_count": 0,
      "outputs": []
    },
    {
      "cell_type": "code",
      "metadata": {
        "id": "oxzi5pI9_vm5",
        "colab_type": "code",
        "outputId": "f6733083-0809-47e2-8266-ea2569907fbe",
        "colab": {
          "base_uri": "https://localhost:8080/",
          "height": 34
        }
      },
      "source": [
        "C = A+B\n",
        "D = A-B\n",
        "E = A*B\n",
        "print(C,D,E)"
      ],
      "execution_count": 0,
      "outputs": [
        {
          "output_type": "stream",
          "text": [
            "[0 2 4 6 8] [0 0 0 0 0] [ 0  1  4  9 16]\n"
          ],
          "name": "stdout"
        }
      ]
    },
    {
      "cell_type": "code",
      "metadata": {
        "id": "TCLXJE8c_39s",
        "colab_type": "code",
        "outputId": "2ddc61e4-ba5a-4604-bd6d-a98f0a1d5fd3",
        "colab": {
          "base_uri": "https://localhost:8080/",
          "height": 34
        }
      },
      "source": [
        "print(A,A+1)"
      ],
      "execution_count": 0,
      "outputs": [
        {
          "output_type": "stream",
          "text": [
            "[0 1 2 3 4] [1 2 3 4 5]\n"
          ],
          "name": "stdout"
        }
      ]
    },
    {
      "cell_type": "code",
      "metadata": {
        "id": "INEFD7cRAAqp",
        "colab_type": "code",
        "outputId": "68c3447f-07d3-4514-e2e8-3aac9f5e2543",
        "colab": {
          "base_uri": "https://localhost:8080/",
          "height": 119
        }
      },
      "source": [
        "A = np.random.random((3,3))\n",
        "print(A)\n",
        "print(A+1)"
      ],
      "execution_count": 0,
      "outputs": [
        {
          "output_type": "stream",
          "text": [
            "[[0.56561247 0.83421317 0.30207707]\n",
            " [0.13428331 0.75494595 0.18444501]\n",
            " [0.64007986 0.57747782 0.36842096]]\n",
            "[[1.56561247 1.83421317 1.30207707]\n",
            " [1.13428331 1.75494595 1.18444501]\n",
            " [1.64007986 1.57747782 1.36842096]]\n"
          ],
          "name": "stdout"
        }
      ]
    },
    {
      "cell_type": "code",
      "metadata": {
        "id": "SSbZE237ALl-",
        "colab_type": "code",
        "outputId": "e7852f19-5208-4792-8a91-99f3f7169999",
        "colab": {
          "base_uri": "https://localhost:8080/",
          "height": 51
        }
      },
      "source": [
        "A = np.floor(np.random.random((2,3))*10)\n",
        "print(A)"
      ],
      "execution_count": 0,
      "outputs": [
        {
          "output_type": "stream",
          "text": [
            "[[2. 6. 7.]\n",
            " [2. 9. 8.]]\n"
          ],
          "name": "stdout"
        }
      ]
    },
    {
      "cell_type": "code",
      "metadata": {
        "id": "lapiBEDRAjXk",
        "colab_type": "code",
        "colab": {}
      },
      "source": [
        "u = [1,2,3]\n",
        "v = [-1,0,1]\n"
      ],
      "execution_count": 0,
      "outputs": []
    },
    {
      "cell_type": "code",
      "metadata": {
        "id": "Q1fD09JDAxLS",
        "colab_type": "code",
        "outputId": "25db5a62-587a-4d96-c4cd-337e4b3747ba",
        "colab": {
          "base_uri": "https://localhost:8080/",
          "height": 34
        }
      },
      "source": [
        "P1 = np.inner(u,v)\n",
        "print(P1)"
      ],
      "execution_count": 0,
      "outputs": [
        {
          "output_type": "stream",
          "text": [
            "2\n"
          ],
          "name": "stdout"
        }
      ]
    },
    {
      "cell_type": "code",
      "metadata": {
        "id": "5k7gjIZSA156",
        "colab_type": "code",
        "outputId": "97f4ba62-cc04-46d2-ff91-3d8947bc5f4e",
        "colab": {
          "base_uri": "https://localhost:8080/",
          "height": 68
        }
      },
      "source": [
        "p2 = np.outer(u,v) \n",
        "print(p2)"
      ],
      "execution_count": 0,
      "outputs": [
        {
          "output_type": "stream",
          "text": [
            "[[-1  0  1]\n",
            " [-2  0  2]\n",
            " [-3  0  3]]\n"
          ],
          "name": "stdout"
        }
      ]
    },
    {
      "cell_type": "code",
      "metadata": {
        "id": "jDv1NhldA7XD",
        "colab_type": "code",
        "outputId": "e536d21f-733f-4d49-bd82-6274ceb15cc3",
        "colab": {
          "base_uri": "https://localhost:8080/",
          "height": 51
        }
      },
      "source": [
        "A = np.ones((2,3))\n",
        "B = np.ones((3,2))\n",
        "np.dot(A,B)"
      ],
      "execution_count": 0,
      "outputs": [
        {
          "output_type": "execute_result",
          "data": {
            "text/plain": [
              "array([[3., 3.],\n",
              "       [3., 3.]])"
            ]
          },
          "metadata": {
            "tags": []
          },
          "execution_count": 92
        }
      ]
    },
    {
      "cell_type": "code",
      "metadata": {
        "id": "dDQyOEhLCHoM",
        "colab_type": "code",
        "outputId": "e8b6d21b-f79f-4d8f-b7cc-ef48f0fddbdd",
        "colab": {
          "base_uri": "https://localhost:8080/",
          "height": 51
        }
      },
      "source": [
        "np.dot(B.T,A.T)"
      ],
      "execution_count": 0,
      "outputs": [
        {
          "output_type": "execute_result",
          "data": {
            "text/plain": [
              "array([[3., 3.],\n",
              "       [3., 3.]])"
            ]
          },
          "metadata": {
            "tags": []
          },
          "execution_count": 94
        }
      ]
    },
    {
      "cell_type": "code",
      "metadata": {
        "id": "5pWL4KLtCemC",
        "colab_type": "code",
        "outputId": "6c4cda41-ce75-442c-bc32-a873383586a7",
        "colab": {
          "base_uri": "https://localhost:8080/",
          "height": 51
        }
      },
      "source": [
        "A = np.ones((2,3))\n",
        "print(A)"
      ],
      "execution_count": 0,
      "outputs": [
        {
          "output_type": "stream",
          "text": [
            "[[1. 1. 1.]\n",
            " [1. 1. 1.]]\n"
          ],
          "name": "stdout"
        }
      ]
    },
    {
      "cell_type": "code",
      "metadata": {
        "id": "H03WjpBlCtGU",
        "colab_type": "code",
        "outputId": "182522e8-99d1-41b9-8f6b-523da7d5451b",
        "colab": {
          "base_uri": "https://localhost:8080/",
          "height": 34
        }
      },
      "source": [
        "A.sum()"
      ],
      "execution_count": 0,
      "outputs": [
        {
          "output_type": "execute_result",
          "data": {
            "text/plain": [
              "6.0"
            ]
          },
          "metadata": {
            "tags": []
          },
          "execution_count": 96
        }
      ]
    },
    {
      "cell_type": "code",
      "metadata": {
        "id": "lmZT-vd2CwyX",
        "colab_type": "code",
        "outputId": "07a24b04-d73d-42ef-fb33-2f4c6d5207d6",
        "colab": {
          "base_uri": "https://localhost:8080/",
          "height": 34
        }
      },
      "source": [
        "A.sum(axis=0) #row wise"
      ],
      "execution_count": 0,
      "outputs": [
        {
          "output_type": "execute_result",
          "data": {
            "text/plain": [
              "array([2., 2., 2.])"
            ]
          },
          "metadata": {
            "tags": []
          },
          "execution_count": 97
        }
      ]
    },
    {
      "cell_type": "code",
      "metadata": {
        "id": "6ytCly47C69c",
        "colab_type": "code",
        "outputId": "0884f011-c415-427c-a1b9-1b622eee3f62",
        "colab": {
          "base_uri": "https://localhost:8080/",
          "height": 34
        }
      },
      "source": [
        "A.sum(axis=1) #column wise"
      ],
      "execution_count": 0,
      "outputs": [
        {
          "output_type": "execute_result",
          "data": {
            "text/plain": [
              "array([3., 3.])"
            ]
          },
          "metadata": {
            "tags": []
          },
          "execution_count": 99
        }
      ]
    },
    {
      "cell_type": "markdown",
      "metadata": {
        "id": "kUtiqfBtlhN6",
        "colab_type": "text"
      },
      "source": [
        "# Plotting"
      ]
    },
    {
      "cell_type": "code",
      "metadata": {
        "id": "wUQIMExBlobu",
        "colab_type": "code",
        "colab": {}
      },
      "source": [
        "import matplotlib.pyplot as plt\n",
        "import numpy as np"
      ],
      "execution_count": 0,
      "outputs": []
    },
    {
      "cell_type": "code",
      "metadata": {
        "id": "7mDnmpxFl2XN",
        "colab_type": "code",
        "colab": {
          "base_uri": "https://localhost:8080/",
          "height": 187
        },
        "outputId": "efec8a50-eeee-4b90-f8e3-3ecade1038d2"
      },
      "source": [
        "x = np.random.random((10,1))\n",
        "print(x)"
      ],
      "execution_count": 2,
      "outputs": [
        {
          "output_type": "stream",
          "text": [
            "[[0.72929794]\n",
            " [0.73263959]\n",
            " [0.09269594]\n",
            " [0.72015481]\n",
            " [0.79881706]\n",
            " [0.93412375]\n",
            " [0.94119187]\n",
            " [0.51887082]\n",
            " [0.1944987 ]\n",
            " [0.05717168]]\n"
          ],
          "name": "stdout"
        }
      ]
    },
    {
      "cell_type": "code",
      "metadata": {
        "id": "eQxaftU0l_IR",
        "colab_type": "code",
        "colab": {
          "base_uri": "https://localhost:8080/",
          "height": 265
        },
        "outputId": "197695c3-ee99-4fe4-b244-2d3959579f79"
      },
      "source": [
        "plt.plot(x,'*-')\n",
        "plt.show()"
      ],
      "execution_count": 5,
      "outputs": [
        {
          "output_type": "display_data",
          "data": {
            "image/png": "[encoded data removed]",
            "text/plain": [
              "<Figure size 432x288 with 1 Axes>"
            ]
          },
          "metadata": {
            "tags": []
          }
        }
      ]
    },
    {
      "cell_type": "code",
      "metadata": {
        "id": "VpSj7O1omBnG",
        "colab_type": "code",
        "colab": {
          "base_uri": "https://localhost:8080/",
          "height": 265
        },
        "outputId": "2941656b-491d-4f80-c1db-f740839aa12e"
      },
      "source": [
        "x = np.linspace(0,10,50)\n",
        "y = np.power(x, 2)\n",
        "plt.plot(x,y,'*')\n",
        "plt.show()"
      ],
      "execution_count": 11,
      "outputs": [
        {
          "output_type": "display_data",
          "data": {
            "image/png": "[encoded data removed]",
            "text/plain": [
              "<Figure size 432x288 with 1 Axes>"
            ]
          },
          "metadata": {
            "tags": []
          }
        }
      ]
    },
    {
      "cell_type": "code",
      "metadata": {
        "id": "QTVvYi5OotV_",
        "colab_type": "code",
        "colab": {
          "base_uri": "https://localhost:8080/",
          "height": 71
        },
        "outputId": "7c6aa70f-11ad-4c25-a43d-bb477a582bf1"
      },
      "source": [
        "import seaborn as sns\n",
        "sns.set()"
      ],
      "execution_count": 12,
      "outputs": [
        {
          "output_type": "stream",
          "text": [
            "/usr/local/lib/python3.6/dist-packages/statsmodels/tools/_testing.py:19: FutureWarning: pandas.util.testing is deprecated. Use the functions in the public API at pandas.testing instead.\n",
            "  import pandas.util.testing as tm\n"
          ],
          "name": "stderr"
        }
      ]
    },
    {
      "cell_type": "code",
      "metadata": {
        "id": "cw8Bw2NXpFsf",
        "colab_type": "code",
        "colab": {
          "base_uri": "https://localhost:8080/",
          "height": 268
        },
        "outputId": "573dc494-9a92-499e-8260-29910422eac0"
      },
      "source": [
        "sns.lineplot(x,y)\n",
        "plt.show()"
      ],
      "execution_count": 16,
      "outputs": [
        {
          "output_type": "display_data",
          "data": {
            "image/png": "[encoded data removed]",
            "text/plain": [
              "<Figure size 432x288 with 1 Axes>"
            ]
          },
          "metadata": {
            "tags": []
          }
        }
      ]
    },
    {
      "cell_type": "code",
      "metadata": {
        "id": "7DvidaRIpLlT",
        "colab_type": "code",
        "colab": {
          "base_uri": "https://localhost:8080/",
          "height": 204
        },
        "outputId": "d38a76e8-068a-4572-ee3e-d9f635b48a26"
      },
      "source": [
        "import pandas as pd\n",
        "data = pd.read_csv('train.csv')\n",
        "data.head()"
      ],
      "execution_count": 17,
      "outputs": [
        {
          "output_type": "execute_result",
          "data": {
            "text/html": [
              "<div>\n",
              "<style scoped>\n",
              "    .dataframe tbody tr th:only-of-type {\n",
              "        vertical-align: middle;\n",
              "    }\n",
              "\n",
              "    .dataframe tbody tr th {\n",
              "        vertical-align: top;\n",
              "    }\n",
              "\n",
              "    .dataframe thead th {\n",
              "        text-align: right;\n",
              "    }\n",
              "</style>\n",
              "<table border=\"1\" class=\"dataframe\">\n",
              "  <thead>\n",
              "    <tr style=\"text-align: right;\">\n",
              "      <th></th>\n",
              "      <th>PassengerId</th>\n",
              "      <th>Survived</th>\n",
              "      <th>Pclass</th>\n",
              "      <th>Name</th>\n",
              "      <th>Sex</th>\n",
              "      <th>Age</th>\n",
              "      <th>SibSp</th>\n",
              "      <th>Parch</th>\n",
              "      <th>Ticket</th>\n",
              "      <th>Fare</th>\n",
              "      <th>Cabin</th>\n",
              "      <th>Embarked</th>\n",
              "    </tr>\n",
              "  </thead>\n",
              "  <tbody>\n",
              "    <tr>\n",
              "      <th>0</th>\n",
              "      <td>1</td>\n",
              "      <td>0</td>\n",
              "      <td>3</td>\n",
              "      <td>Braund, Mr. Owen Harris</td>\n",
              "      <td>male</td>\n",
              "      <td>22.0</td>\n",
              "      <td>1</td>\n",
              "      <td>0</td>\n",
              "      <td>A/5 21171</td>\n",
              "      <td>7.2500</td>\n",
              "      <td>NaN</td>\n",
              "      <td>S</td>\n",
              "    </tr>\n",
              "    <tr>\n",
              "      <th>1</th>\n",
              "      <td>2</td>\n",
              "      <td>1</td>\n",
              "      <td>1</td>\n",
              "      <td>Cumings, Mrs. John Bradley (Florence Briggs Th...</td>\n",
              "      <td>female</td>\n",
              "      <td>38.0</td>\n",
              "      <td>1</td>\n",
              "      <td>0</td>\n",
              "      <td>PC 17599</td>\n",
              "      <td>71.2833</td>\n",
              "      <td>C85</td>\n",
              "      <td>C</td>\n",
              "    </tr>\n",
              "    <tr>\n",
              "      <th>2</th>\n",
              "      <td>3</td>\n",
              "      <td>1</td>\n",
              "      <td>3</td>\n",
              "      <td>Heikkinen, Miss. Laina</td>\n",
              "      <td>female</td>\n",
              "      <td>26.0</td>\n",
              "      <td>0</td>\n",
              "      <td>0</td>\n",
              "      <td>STON/O2. 3101282</td>\n",
              "      <td>7.9250</td>\n",
              "      <td>NaN</td>\n",
              "      <td>S</td>\n",
              "    </tr>\n",
              "    <tr>\n",
              "      <th>3</th>\n",
              "      <td>4</td>\n",
              "      <td>1</td>\n",
              "      <td>1</td>\n",
              "      <td>Futrelle, Mrs. Jacques Heath (Lily May Peel)</td>\n",
              "      <td>female</td>\n",
              "      <td>35.0</td>\n",
              "      <td>1</td>\n",
              "      <td>0</td>\n",
              "      <td>113803</td>\n",
              "      <td>53.1000</td>\n",
              "      <td>C123</td>\n",
              "      <td>S</td>\n",
              "    </tr>\n",
              "    <tr>\n",
              "      <th>4</th>\n",
              "      <td>5</td>\n",
              "      <td>0</td>\n",
              "      <td>3</td>\n",
              "      <td>Allen, Mr. William Henry</td>\n",
              "      <td>male</td>\n",
              "      <td>35.0</td>\n",
              "      <td>0</td>\n",
              "      <td>0</td>\n",
              "      <td>373450</td>\n",
              "      <td>8.0500</td>\n",
              "      <td>NaN</td>\n",
              "      <td>S</td>\n",
              "    </tr>\n",
              "  </tbody>\n",
              "</table>\n",
              "</div>"
            ],
            "text/plain": [
              "   PassengerId  Survived  Pclass  ...     Fare Cabin  Embarked\n",
              "0            1         0       3  ...   7.2500   NaN         S\n",
              "1            2         1       1  ...  71.2833   C85         C\n",
              "2            3         1       3  ...   7.9250   NaN         S\n",
              "3            4         1       1  ...  53.1000  C123         S\n",
              "4            5         0       3  ...   8.0500   NaN         S\n",
              "\n",
              "[5 rows x 12 columns]"
            ]
          },
          "metadata": {
            "tags": []
          },
          "execution_count": 17
        }
      ]
    },
    {
      "cell_type": "code",
      "metadata": {
        "id": "2BU0f3kmrDsB",
        "colab_type": "code",
        "colab": {
          "base_uri": "https://localhost:8080/",
          "height": 285
        },
        "outputId": "dbe7dd97-acdf-438c-b631-1101039f2ce3"
      },
      "source": [
        " ax = sns.scatterplot(x=\"Age\", y=\"Fare\", data=data)"
      ],
      "execution_count": 21,
      "outputs": [
        {
          "output_type": "display_data",
          "data": {
            "image/png": "[encoded data removed]",
            "text/plain": [
              "<Figure size 432x288 with 1 Axes>"
            ]
          },
          "metadata": {
            "tags": []
          }
        }
      ]
    },
    {
      "cell_type": "code",
      "metadata": {
        "id": "gIoT4Zt1rc2f",
        "colab_type": "code",
        "colab": {
          "base_uri": "https://localhost:8080/",
          "height": 302
        },
        "outputId": "921c85ac-1785-4d82-9915-d54d8c48ae01"
      },
      "source": [
        "sns.distplot(data['Fare'])"
      ],
      "execution_count": 22,
      "outputs": [
        {
          "output_type": "execute_result",
          "data": {
            "text/plain": [
              "<matplotlib.axes._subplots.AxesSubplot at 0x7f92704febe0>"
            ]
          },
          "metadata": {
            "tags": []
          },
          "execution_count": 22
        },
        {
          "output_type": "display_data",
          "data": {
            "image/png": "[encoded data removed]",
            "text/plain": [
              "<Figure size 432x288 with 1 Axes>"
            ]
          },
          "metadata": {
            "tags": []
          }
        }
      ]
    },
    {
      "cell_type": "code",
      "metadata": {
        "id": "J47rCxm-tmoT",
        "colab_type": "code",
        "colab": {
          "base_uri": "https://localhost:8080/",
          "height": 302
        },
        "outputId": "b4e24d01-3ef1-471a-c641-9c9b688f8652"
      },
      "source": [
        "sns.distplot(data['Fare'],kde=False,rug=True, bins=20)"
      ],
      "execution_count": 24,
      "outputs": [
        {
          "output_type": "execute_result",
          "data": {
            "text/plain": [
              "<matplotlib.axes._subplots.AxesSubplot at 0x7f9270258be0>"
            ]
          },
          "metadata": {
            "tags": []
          },
          "execution_count": 24
        },
        {
          "output_type": "display_data",
          "data": {
            "image/png": "[encoded data removed]",
            "text/plain": [
              "<Figure size 432x288 with 1 Axes>"
            ]
          },
          "metadata": {
            "tags": []
          }
        }
      ]
    },
    {
      "cell_type": "code",
      "metadata": {
        "id": "GLTjj9Pxt8Ge",
        "colab_type": "code",
        "colab": {
          "base_uri": "https://localhost:8080/",
          "height": 285
        },
        "outputId": "d08551cf-d1bd-4563-cd7d-7d2c5b3fc45d"
      },
      "source": [
        "ax = sns.boxenplot(x=\"Survived\", y=\"Age\", data=data)"
      ],
      "execution_count": 27,
      "outputs": [
        {
          "output_type": "display_data",
          "data": {
            "image/png": "[encoded data removed]",
            "text/plain": [
              "<Figure size 432x288 with 1 Axes>"
            ]
          },
          "metadata": {
            "tags": []
          }
        }
      ]
    },
    {
      "cell_type": "code",
      "metadata": {
        "id": "uK9lGX_kudRO",
        "colab_type": "code",
        "colab": {
          "base_uri": "https://localhost:8080/",
          "height": 425
        },
        "outputId": "6e0d6f52-53a2-4ad6-8adc-96a6d352a4da"
      },
      "source": [
        "a = np.random.random((12,10))\n",
        "print(a)"
      ],
      "execution_count": 29,
      "outputs": [
        {
          "output_type": "stream",
          "text": [
            "[[0.64571062 0.9656254  0.59670954 0.18231682 0.29224938 0.6397709\n",
            "  0.27361954 0.93899685 0.03160677 0.78246886]\n",
            " [0.47275586 0.49994823 0.28253447 0.69376386 0.308729   0.32209835\n",
            "  0.20490093 0.44459847 0.13664677 0.19230743]\n",
            " [0.46653563 0.63041596 0.88385867 0.55562837 0.65190296 0.9157033\n",
            "  0.40223373 0.99233131 0.46365456 0.15227294]\n",
            " [0.02822482 0.71918555 0.91603533 0.70691222 0.28943507 0.67785358\n",
            "  0.06576441 0.44392889 0.08559971 0.18565841]\n",
            " [0.44922668 0.21643545 0.01953968 0.33388339 0.91037474 0.16659834\n",
            "  0.95526543 0.03052924 0.69814763 0.79625886]\n",
            " [0.01219805 0.72744943 0.68747349 0.73742352 0.14522641 0.59836534\n",
            "  0.66276804 0.63358191 0.8938434  0.74291873]\n",
            " [0.0445206  0.96340492 0.72684395 0.61381986 0.80899546 0.31056174\n",
            "  0.59108899 0.22443066 0.86293674 0.38105629]\n",
            " [0.4603954  0.61856388 0.94633658 0.51546188 0.62640364 0.73854385\n",
            "  0.56897564 0.92080154 0.43873146 0.09311942]\n",
            " [0.68078206 0.73682345 0.08020436 0.78953984 0.89252571 0.7112167\n",
            "  0.34632636 0.40909327 0.72871143 0.00536703]\n",
            " [0.40098818 0.02775534 0.75156098 0.16142764 0.80709776 0.0042974\n",
            "  0.52721464 0.60642396 0.34880256 0.5888641 ]\n",
            " [0.22005693 0.99355065 0.48461226 0.60718356 0.30192568 0.24025137\n",
            "  0.05685581 0.04416415 0.70126862 0.67438593]\n",
            " [0.71894202 0.63330244 0.5420875  0.53961883 0.56991449 0.7008978\n",
            "  0.15309008 0.70857956 0.56108783 0.08960207]]\n"
          ],
          "name": "stdout"
        }
      ]
    },
    {
      "cell_type": "code",
      "metadata": {
        "id": "GF40lGVSvRfm",
        "colab_type": "code",
        "colab": {
          "base_uri": "https://localhost:8080/",
          "height": 268
        },
        "outputId": "85601258-7365-459d-c487-11fc063d4d0c"
      },
      "source": [
        "ax =sns.heatmap(a, cmap=\"YlGnBu\")"
      ],
      "execution_count": 31,
      "outputs": [
        {
          "output_type": "display_data",
          "data": {
            "image/png": "[encoded data removed]",
            "text/plain": [
              "<Figure size 432x288 with 2 Axes>"
            ]
          },
          "metadata": {
            "tags": []
          }
        }
      ]
    },
    {
      "cell_type": "code",
      "metadata": {
        "id": "132wNVK7vYV7",
        "colab_type": "code",
        "colab": {
          "base_uri": "https://localhost:8080/",
          "height": 221
        },
        "outputId": "4a634962-3262-4a0f-ee35-df342df73dbc"
      },
      "source": [
        "!wget https://miro.medium.com/max/950/1*sUHVxRoPHoZpPi7XjmVkzg.png"
      ],
      "execution_count": 51,
      "outputs": [
        {
          "output_type": "stream",
          "text": [
            "Warning: wildcards not supported in HTTP.\n",
            "--2020-04-01 12:48:45--  https://miro.medium.com/max/950/1*sUHVxRoPHoZpPi7XjmVkzg.png\n",
            "Resolving miro.medium.com (miro.medium.com)... 104.16.120.145, 104.16.117.145, 104.16.121.145, ...\n",
            "Connecting to miro.medium.com (miro.medium.com)|104.16.120.145|:443... connected.\n",
            "HTTP request sent, awaiting response... 200 OK\n",
            "Length: 39865 (39K) [image/png]\n",
            "Saving to: ‘1*sUHVxRoPHoZpPi7XjmVkzg.png’\n",
            "\n",
            "\r          1*sUHVxRo   0%[                    ]       0  --.-KB/s               \r1*sUHVxRoPHoZpPi7Xj 100%[===================>]  38.93K  --.-KB/s    in 0.003s  \n",
            "\n",
            "2020-04-01 12:48:45 (12.6 MB/s) - ‘1*sUHVxRoPHoZpPi7XjmVkzg.png’ saved [39865/39865]\n",
            "\n"
          ],
          "name": "stdout"
        }
      ]
    },
    {
      "cell_type": "code",
      "metadata": {
        "id": "KjDTTyTrv0jH",
        "colab_type": "code",
        "colab": {
          "base_uri": "https://localhost:8080/",
          "height": 51
        },
        "outputId": "0c32085e-3f3f-4ead-b098-02b86be0e51f"
      },
      "source": [
        "!ls"
      ],
      "execution_count": 52,
      "outputs": [
        {
          "output_type": "stream",
          "text": [
            "'1*sUHVxRoPHoZpPi7XjmVkzg.png'\t onefortlabs.png   train.csv\n",
            " oneforthlabs.png\t\t sample_data\n"
          ],
          "name": "stdout"
        }
      ]
    },
    {
      "cell_type": "code",
      "metadata": {
        "id": "Gc0bRUUrv2PK",
        "colab_type": "code",
        "colab": {}
      },
      "source": [
        "!mv 1*sUHVxRoPHoZpPi7XjmVkzg.png oneforthlabs1.png"
      ],
      "execution_count": 0,
      "outputs": []
    },
    {
      "cell_type": "code",
      "metadata": {
        "id": "SeH-Tle4wFFM",
        "colab_type": "code",
        "colab": {
          "base_uri": "https://localhost:8080/",
          "height": 34
        },
        "outputId": "c5734aca-c1b2-4374-d0b2-388300c05ad5"
      },
      "source": [
        "!ls"
      ],
      "execution_count": 54,
      "outputs": [
        {
          "output_type": "stream",
          "text": [
            "oneforthlabs1.png  oneforthlabs.png  onefortlabs.png  sample_data  train.csv\n"
          ],
          "name": "stdout"
        }
      ]
    },
    {
      "cell_type": "code",
      "metadata": {
        "id": "L1y7clwRwHxp",
        "colab_type": "code",
        "colab": {}
      },
      "source": [
        "import matplotlib.image as mpimg"
      ],
      "execution_count": 0,
      "outputs": []
    },
    {
      "cell_type": "code",
      "metadata": {
        "id": "81GRCXKbwPur",
        "colab_type": "code",
        "colab": {}
      },
      "source": [
        "img = mpimg.imread('oneforthlabs1.png')"
      ],
      "execution_count": 0,
      "outputs": []
    },
    {
      "cell_type": "code",
      "metadata": {
        "id": "IG7qBgkAwmnD",
        "colab_type": "code",
        "colab": {
          "base_uri": "https://localhost:8080/",
          "height": 850
        },
        "outputId": "cdfd2ec0-4848-4e8b-acdb-19678f76cc56"
      },
      "source": [
        "print(img)"
      ],
      "execution_count": 57,
      "outputs": [
        {
          "output_type": "stream",
          "text": [
            "[[[0. 0. 0. 0.]\n",
            "  [0. 0. 0. 0.]\n",
            "  [0. 0. 0. 0.]\n",
            "  ...\n",
            "  [0. 0. 0. 0.]\n",
            "  [0. 0. 0. 0.]\n",
            "  [0. 0. 0. 0.]]\n",
            "\n",
            " [[0. 0. 0. 0.]\n",
            "  [0. 0. 0. 0.]\n",
            "  [0. 0. 0. 0.]\n",
            "  ...\n",
            "  [0. 0. 0. 0.]\n",
            "  [0. 0. 0. 0.]\n",
            "  [0. 0. 0. 0.]]\n",
            "\n",
            " [[0. 0. 0. 0.]\n",
            "  [0. 0. 0. 0.]\n",
            "  [0. 0. 0. 0.]\n",
            "  ...\n",
            "  [0. 0. 0. 0.]\n",
            "  [0. 0. 0. 0.]\n",
            "  [0. 0. 0. 0.]]\n",
            "\n",
            " ...\n",
            "\n",
            " [[0. 0. 0. 0.]\n",
            "  [0. 0. 0. 0.]\n",
            "  [0. 0. 0. 0.]\n",
            "  ...\n",
            "  [0. 0. 0. 0.]\n",
            "  [0. 0. 0. 0.]\n",
            "  [0. 0. 0. 0.]]\n",
            "\n",
            " [[0. 0. 0. 0.]\n",
            "  [0. 0. 0. 0.]\n",
            "  [0. 0. 0. 0.]\n",
            "  ...\n",
            "  [0. 0. 0. 0.]\n",
            "  [0. 0. 0. 0.]\n",
            "  [0. 0. 0. 0.]]\n",
            "\n",
            " [[0. 0. 0. 0.]\n",
            "  [0. 0. 0. 0.]\n",
            "  [0. 0. 0. 0.]\n",
            "  ...\n",
            "  [0. 0. 0. 0.]\n",
            "  [0. 0. 0. 0.]\n",
            "  [0. 0. 0. 0.]]]\n"
          ],
          "name": "stdout"
        }
      ]
    },
    {
      "cell_type": "code",
      "metadata": {
        "id": "9lwjwQubykUr",
        "colab_type": "code",
        "colab": {
          "base_uri": "https://localhost:8080/",
          "height": 139
        },
        "outputId": "6db13760-6ea8-448d-d0d5-c205b42df822"
      },
      "source": [
        "imgplot = plt.imshow(img)"
      ],
      "execution_count": 58,
      "outputs": [
        {
          "output_type": "display_data",
          "data": {
            "image/png": "[encoded data removed]",
            "text/plain": [
              "<Figure size 432x288 with 1 Axes>"
            ]
          },
          "metadata": {
            "tags": []
          }
        }
      ]
    },
    {
      "cell_type": "code",
      "metadata": {
        "id": "vL89tXv_yrRC",
        "colab_type": "code",
        "colab": {}
      },
      "source": [
        ""
      ],
      "execution_count": 0,
      "outputs": []
    }
  ]
}